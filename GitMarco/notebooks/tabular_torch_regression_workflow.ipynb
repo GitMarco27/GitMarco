{
 "nbformat": 4,
 "nbformat_minor": 0,
 "metadata": {
  "colab": {
   "name": "torch_regression_workflow.ipynb",
   "provenance": [],
   "collapsed_sections": []
  },
  "kernelspec": {
   "name": "python3",
   "display_name": "Python 3"
  },
  "language_info": {
   "name": "python"
  },
  "accelerator": "GPU"
 },
 "cells": [
  {
   "cell_type": "markdown",
   "source": [
    "# Pytorch Regression\n",
    "---\n",
    "- Author: Marco Sanguineti\n",
    "- Licence: MIT"
   ],
   "metadata": {
    "id": "6ePToRRgoW9O"
   }
  },
  {
   "cell_type": "code",
   "source": [
    "import pandas as pd\n",
    "import torch\n",
    "import matplotlib.pyplot as plt\n",
    "import plotly.graph_objects as go\n",
    "import numpy as np\n",
    "import os"
   ],
   "metadata": {
    "id": "D9XuDLxdoWeZ"
   },
   "execution_count": 1,
   "outputs": []
  },
  {
   "cell_type": "code",
   "execution_count": 2,
   "metadata": {
    "colab": {
     "base_uri": "https://localhost:8080/",
     "height": 35
    },
    "id": "vc8WxPRroRAY",
    "outputId": "4317cc44-d37f-4764-ed14-23ba3ed6ac1d"
   },
   "outputs": [
    {
     "output_type": "execute_result",
     "data": {
      "application/vnd.google.colaboratory.intrinsic+json": {
       "type": "string"
      },
      "text/plain": [
       "'1.10.0+cu111'"
      ]
     },
     "metadata": {},
     "execution_count": 2
    }
   ],
   "source": [
    "torch.__version__"
   ]
  },
  {
   "cell_type": "markdown",
   "source": [
    "## Parameters section\n",
    "---"
   ],
   "metadata": {
    "id": "o-sjrDw08Fzh"
   }
  },
  {
   "cell_type": "code",
   "source": [
    "# Source data path (.xlsx format)\n",
    "dataset_path = 'dataSet1.xlsx'\n",
    "\n",
    "# Columns to be removed during analysis\n",
    "drop_columns = ['x', 'y', 'z' , 'eta_4']\n",
    "\n",
    "# Number of outputs for the regression problem\n",
    "n_outputs = 1\n",
    "\n",
    "# All samples with beta value higher than this threshold are ignored.\n",
    "beta_threshold = 2*10**3\n",
    "\n",
    "# Scaling technique\n",
    "scaler = 'standard' # 1. standard 2. maxmin 3. maxabs  4. None\n",
    "\n",
    "# Saving path for my best torch model state dictionary and params dictionary\n",
    "save_path = '/content/results_1/'\n",
    "\n",
    "# Shuffling data?\n",
    "shuffle_data = True\n",
    "\n",
    "# Number of neurons for the layers of the MLP\n",
    "neurons = [256, 256,]\n",
    "\n",
    "# Activation function for hidden layers\n",
    "activation = 'relu' # 1. relu 2. tanh\n",
    "\n",
    "# Dropout rate\n",
    "dropout_rate = 0.2\n",
    "\n",
    "# Learning rate\n",
    "learning_rate = 10**-4\n",
    "\n",
    "# Batch size\n",
    "batch_size = 256\n",
    "\n",
    "# Training epochs\n",
    "epochs = 200\n",
    "\n",
    "# Loss function\n",
    "loss = 'mse'  # 1. mse # 2. mae\n",
    "\n",
    "# Optimizer\n",
    "optimizer_type = 'adam' # 1. adam 2. sgd 3. rmsprop"
   ],
   "metadata": {
    "id": "gUyctCz_pQYs"
   },
   "execution_count": 3,
   "outputs": []
  },
  {
   "cell_type": "markdown",
   "source": [
    "---"
   ],
   "metadata": {
    "id": "kMUYc8JmB2FB"
   }
  },
  {
   "cell_type": "code",
   "source": [
    "if not os.path.exists(save_path):\n",
    "  os.mkdir(save_path)"
   ],
   "metadata": {
    "id": "5TD6wyF1Cb29"
   },
   "execution_count": 4,
   "outputs": []
  },
  {
   "cell_type": "code",
   "source": [
    "params_dict = {\n",
    "    'dataset_path': dataset_path,\n",
    "    'drop_columns': drop_columns,\n",
    "    'n_outputs': n_outputs,\n",
    "    'beta_threshold': beta_threshold,\n",
    "    'scaler': scaler,\n",
    "    'save_path': save_path,\n",
    "    'shuffle_data': shuffle_data,\n",
    "    'neurons': neurons,\n",
    "    'dropout_rate': dropout_rate,\n",
    "    'learning_rate': learning_rate,\n",
    "    'batch_size': batch_size,\n",
    "    'epochs': epochs,\n",
    "    'loss': loss,\n",
    "    'optimizer_type': optimizer_type,\n",
    "}"
   ],
   "metadata": {
    "id": "PNuUX36J_kdY"
   },
   "execution_count": 5,
   "outputs": []
  },
  {
   "cell_type": "code",
   "source": [
    "dataset = pd.read_excel(dataset_path,\n",
    "                        dtype=np.float32,\n",
    "                        na_values=['?'])\n",
    "dataset.head()"
   ],
   "metadata": {
    "colab": {
     "base_uri": "https://localhost:8080/",
     "height": 206
    },
    "id": "LrVf1fCno2zQ",
    "outputId": "e52ede90-4a56-4c12-8ed6-52e02de893c6"
   },
   "execution_count": 6,
   "outputs": [
    {
     "output_type": "execute_result",
     "data": {
      "text/html": [
       "<div>\n",
       "<style scoped>\n",
       "    .dataframe tbody tr th:only-of-type {\n",
       "        vertical-align: middle;\n",
       "    }\n",
       "\n",
       "    .dataframe tbody tr th {\n",
       "        vertical-align: top;\n",
       "    }\n",
       "\n",
       "    .dataframe thead th {\n",
       "        text-align: right;\n",
       "    }\n",
       "</style>\n",
       "<table border=\"1\" class=\"dataframe\">\n",
       "  <thead>\n",
       "    <tr style=\"text-align: right;\">\n",
       "      <th></th>\n",
       "      <th>x</th>\n",
       "      <th>y</th>\n",
       "      <th>z</th>\n",
       "      <th>eta_1</th>\n",
       "      <th>eta_2</th>\n",
       "      <th>eta_3</th>\n",
       "      <th>eta_4</th>\n",
       "      <th>eta_5</th>\n",
       "      <th>eta_6</th>\n",
       "      <th>eta_7</th>\n",
       "      <th>beta</th>\n",
       "    </tr>\n",
       "  </thead>\n",
       "  <tbody>\n",
       "    <tr>\n",
       "      <th>0</th>\n",
       "      <td>0.002632</td>\n",
       "      <td>0.09991</td>\n",
       "      <td>0.08889</td>\n",
       "      <td>7074.855957</td>\n",
       "      <td>0.061904</td>\n",
       "      <td>0.00009</td>\n",
       "      <td>3.213112e+11</td>\n",
       "      <td>-0.0</td>\n",
       "      <td>-0.600200</td>\n",
       "      <td>16490.000000</td>\n",
       "      <td>1.121000e+13</td>\n",
       "    </tr>\n",
       "    <tr>\n",
       "      <th>1</th>\n",
       "      <td>0.002632</td>\n",
       "      <td>0.09970</td>\n",
       "      <td>0.08889</td>\n",
       "      <td>19415.013672</td>\n",
       "      <td>0.061694</td>\n",
       "      <td>0.00030</td>\n",
       "      <td>1.434694e+10</td>\n",
       "      <td>-0.0</td>\n",
       "      <td>-1.107000</td>\n",
       "      <td>9337.000000</td>\n",
       "      <td>1.266000e+08</td>\n",
       "    </tr>\n",
       "    <tr>\n",
       "      <th>2</th>\n",
       "      <td>0.002632</td>\n",
       "      <td>0.09940</td>\n",
       "      <td>0.08889</td>\n",
       "      <td>25530.636719</td>\n",
       "      <td>0.061394</td>\n",
       "      <td>0.00060</td>\n",
       "      <td>1.528335e+09</td>\n",
       "      <td>-0.0</td>\n",
       "      <td>-0.454100</td>\n",
       "      <td>3073.000000</td>\n",
       "      <td>3.450000e+06</td>\n",
       "    </tr>\n",
       "    <tr>\n",
       "      <th>3</th>\n",
       "      <td>0.002632</td>\n",
       "      <td>0.09897</td>\n",
       "      <td>0.08889</td>\n",
       "      <td>27847.035156</td>\n",
       "      <td>0.060964</td>\n",
       "      <td>0.00103</td>\n",
       "      <td>2.473389e+08</td>\n",
       "      <td>-0.0</td>\n",
       "      <td>-0.081330</td>\n",
       "      <td>810.099976</td>\n",
       "      <td>9.692000e+05</td>\n",
       "    </tr>\n",
       "    <tr>\n",
       "      <th>4</th>\n",
       "      <td>0.002632</td>\n",
       "      <td>0.09837</td>\n",
       "      <td>0.08889</td>\n",
       "      <td>28659.658203</td>\n",
       "      <td>0.060364</td>\n",
       "      <td>0.00163</td>\n",
       "      <td>6.594501e+07</td>\n",
       "      <td>-0.0</td>\n",
       "      <td>-0.001677</td>\n",
       "      <td>186.199997</td>\n",
       "      <td>3.113000e+05</td>\n",
       "    </tr>\n",
       "  </tbody>\n",
       "</table>\n",
       "</div>"
      ],
      "text/plain": [
       "          x        y        z  ...     eta_6         eta_7          beta\n",
       "0  0.002632  0.09991  0.08889  ... -0.600200  16490.000000  1.121000e+13\n",
       "1  0.002632  0.09970  0.08889  ... -1.107000   9337.000000  1.266000e+08\n",
       "2  0.002632  0.09940  0.08889  ... -0.454100   3073.000000  3.450000e+06\n",
       "3  0.002632  0.09897  0.08889  ... -0.081330    810.099976  9.692000e+05\n",
       "4  0.002632  0.09837  0.08889  ... -0.001677    186.199997  3.113000e+05\n",
       "\n",
       "[5 rows x 11 columns]"
      ]
     },
     "metadata": {},
     "execution_count": 6
    }
   ]
  },
  {
   "cell_type": "code",
   "source": [
    "dataset.describe().T"
   ],
   "metadata": {
    "colab": {
     "base_uri": "https://localhost:8080/",
     "height": 394
    },
    "id": "hpdp-147rEXv",
    "outputId": "0d6ce5b7-4de8-4b9b-d8a8-aa9ebeae315f"
   },
   "execution_count": 7,
   "outputs": [
    {
     "output_type": "execute_result",
     "data": {
      "text/html": [
       "<div>\n",
       "<style scoped>\n",
       "    .dataframe tbody tr th:only-of-type {\n",
       "        vertical-align: middle;\n",
       "    }\n",
       "\n",
       "    .dataframe tbody tr th {\n",
       "        vertical-align: top;\n",
       "    }\n",
       "\n",
       "    .dataframe thead th {\n",
       "        text-align: right;\n",
       "    }\n",
       "</style>\n",
       "<table border=\"1\" class=\"dataframe\">\n",
       "  <thead>\n",
       "    <tr style=\"text-align: right;\">\n",
       "      <th></th>\n",
       "      <th>count</th>\n",
       "      <th>mean</th>\n",
       "      <th>std</th>\n",
       "      <th>min</th>\n",
       "      <th>25%</th>\n",
       "      <th>50%</th>\n",
       "      <th>75%</th>\n",
       "      <th>max</th>\n",
       "    </tr>\n",
       "  </thead>\n",
       "  <tbody>\n",
       "    <tr>\n",
       "      <th>x</th>\n",
       "      <td>25992.0</td>\n",
       "      <td>1.000003e-01</td>\n",
       "      <td>5.771684e-02</td>\n",
       "      <td>2.632000e-03</td>\n",
       "      <td>5.000000e-02</td>\n",
       "      <td>9.998500e-02</td>\n",
       "      <td>1.500000e-01</td>\n",
       "      <td>1.974000e-01</td>\n",
       "    </tr>\n",
       "    <tr>\n",
       "      <th>y</th>\n",
       "      <td>25992.0</td>\n",
       "      <td>4.697190e-02</td>\n",
       "      <td>3.062341e-02</td>\n",
       "      <td>8.984000e-05</td>\n",
       "      <td>3.009750e-02</td>\n",
       "      <td>4.010500e-02</td>\n",
       "      <td>7.263000e-02</td>\n",
       "      <td>9.991000e-02</td>\n",
       "    </tr>\n",
       "    <tr>\n",
       "      <th>z</th>\n",
       "      <td>25992.0</td>\n",
       "      <td>1.000054e-01</td>\n",
       "      <td>7.171186e-03</td>\n",
       "      <td>8.889000e-02</td>\n",
       "      <td>9.444000e-02</td>\n",
       "      <td>1.000000e-01</td>\n",
       "      <td>1.056000e-01</td>\n",
       "      <td>1.111000e-01</td>\n",
       "    </tr>\n",
       "    <tr>\n",
       "      <th>eta_1</th>\n",
       "      <td>25992.0</td>\n",
       "      <td>1.585230e+04</td>\n",
       "      <td>7.653338e+03</td>\n",
       "      <td>1.935201e+03</td>\n",
       "      <td>1.074951e+04</td>\n",
       "      <td>1.709107e+04</td>\n",
       "      <td>1.855130e+04</td>\n",
       "      <td>2.882721e+04</td>\n",
       "    </tr>\n",
       "    <tr>\n",
       "      <th>eta_2</th>\n",
       "      <td>25992.0</td>\n",
       "      <td>2.424877e-02</td>\n",
       "      <td>2.074216e-02</td>\n",
       "      <td>1.450000e-04</td>\n",
       "      <td>4.005000e-03</td>\n",
       "      <td>2.036000e-02</td>\n",
       "      <td>3.776444e-02</td>\n",
       "      <td>6.190500e-02</td>\n",
       "    </tr>\n",
       "    <tr>\n",
       "      <th>eta_3</th>\n",
       "      <td>25992.0</td>\n",
       "      <td>2.764459e-02</td>\n",
       "      <td>2.114658e-02</td>\n",
       "      <td>8.984000e-05</td>\n",
       "      <td>6.295750e-03</td>\n",
       "      <td>2.849000e-02</td>\n",
       "      <td>4.528750e-02</td>\n",
       "      <td>6.183000e-02</td>\n",
       "    </tr>\n",
       "    <tr>\n",
       "      <th>eta_4</th>\n",
       "      <td>25992.0</td>\n",
       "      <td>4.501347e+09</td>\n",
       "      <td>3.662680e+10</td>\n",
       "      <td>1.030580e+06</td>\n",
       "      <td>1.235671e+06</td>\n",
       "      <td>1.433357e+06</td>\n",
       "      <td>4.400288e+06</td>\n",
       "      <td>3.213112e+11</td>\n",
       "    </tr>\n",
       "    <tr>\n",
       "      <th>eta_5</th>\n",
       "      <td>25992.0</td>\n",
       "      <td>4.210210e-01</td>\n",
       "      <td>4.933628e-01</td>\n",
       "      <td>-1.428000e-25</td>\n",
       "      <td>-3.125250e-33</td>\n",
       "      <td>-0.000000e+00</td>\n",
       "      <td>1.000000e+00</td>\n",
       "      <td>1.000000e+00</td>\n",
       "    </tr>\n",
       "    <tr>\n",
       "      <th>eta_6</th>\n",
       "      <td>25992.0</td>\n",
       "      <td>-3.716199e-05</td>\n",
       "      <td>3.264592e-01</td>\n",
       "      <td>-1.875000e+00</td>\n",
       "      <td>-2.181000e-02</td>\n",
       "      <td>8.844000e-08</td>\n",
       "      <td>4.538750e-02</td>\n",
       "      <td>1.491000e+00</td>\n",
       "    </tr>\n",
       "    <tr>\n",
       "      <th>eta_7</th>\n",
       "      <td>25992.0</td>\n",
       "      <td>4.835028e+02</td>\n",
       "      <td>2.167265e+03</td>\n",
       "      <td>1.841000e-01</td>\n",
       "      <td>4.847750e-01</td>\n",
       "      <td>8.178000e+01</td>\n",
       "      <td>1.422750e+02</td>\n",
       "      <td>1.649000e+04</td>\n",
       "    </tr>\n",
       "    <tr>\n",
       "      <th>beta</th>\n",
       "      <td>25992.0</td>\n",
       "      <td>1.437594e+11</td>\n",
       "      <td>1.245516e+12</td>\n",
       "      <td>1.262000e-03</td>\n",
       "      <td>5.684750e+01</td>\n",
       "      <td>4.415000e+02</td>\n",
       "      <td>2.541250e+04</td>\n",
       "      <td>1.359000e+13</td>\n",
       "    </tr>\n",
       "  </tbody>\n",
       "</table>\n",
       "</div>"
      ],
      "text/plain": [
       "         count          mean  ...           75%           max\n",
       "x      25992.0  1.000003e-01  ...  1.500000e-01  1.974000e-01\n",
       "y      25992.0  4.697190e-02  ...  7.263000e-02  9.991000e-02\n",
       "z      25992.0  1.000054e-01  ...  1.056000e-01  1.111000e-01\n",
       "eta_1  25992.0  1.585230e+04  ...  1.855130e+04  2.882721e+04\n",
       "eta_2  25992.0  2.424877e-02  ...  3.776444e-02  6.190500e-02\n",
       "eta_3  25992.0  2.764459e-02  ...  4.528750e-02  6.183000e-02\n",
       "eta_4  25992.0  4.501347e+09  ...  4.400288e+06  3.213112e+11\n",
       "eta_5  25992.0  4.210210e-01  ...  1.000000e+00  1.000000e+00\n",
       "eta_6  25992.0 -3.716199e-05  ...  4.538750e-02  1.491000e+00\n",
       "eta_7  25992.0  4.835028e+02  ...  1.422750e+02  1.649000e+04\n",
       "beta   25992.0  1.437594e+11  ...  2.541250e+04  1.359000e+13\n",
       "\n",
       "[11 rows x 8 columns]"
      ]
     },
     "metadata": {},
     "execution_count": 7
    }
   ]
  },
  {
   "cell_type": "code",
   "source": [
    "print(f'Original Dataset shape: {dataset.shape}')\n",
    "if not dataset.isnull().values.any():\n",
    "  print('No NaN in dataset')\n",
    "else:\n",
    "  print('Removing NaN values...\\n')\n",
    "  dataset.dropna(inplace=True)\n",
    "  print(f'New Dataset shape: {dataset.shape}')"
   ],
   "metadata": {
    "colab": {
     "base_uri": "https://localhost:8080/"
    },
    "id": "qT_6uTzqpeib",
    "outputId": "2b568396-c57e-4bac-e4de-7c87aa46f727"
   },
   "execution_count": 8,
   "outputs": [
    {
     "output_type": "stream",
     "name": "stdout",
     "text": [
      "Original Dataset shape: (25992, 11)\n",
      "No NaN in dataset\n"
     ]
    }
   ]
  },
  {
   "cell_type": "code",
   "source": [
    "print(f'Dropping columns: {drop_columns}\\n')\n",
    "dataset.drop(labels=drop_columns,\n",
    "             axis=1,\n",
    "             inplace=True)\n",
    "dataset.head()"
   ],
   "metadata": {
    "colab": {
     "base_uri": "https://localhost:8080/",
     "height": 241
    },
    "id": "eKsEiZLopwX3",
    "outputId": "8e42c2fe-b236-4ece-8134-1afc52592a4a"
   },
   "execution_count": 9,
   "outputs": [
    {
     "output_type": "stream",
     "name": "stdout",
     "text": [
      "Dropping columns: ['x', 'y', 'z', 'eta_4']\n",
      "\n"
     ]
    },
    {
     "output_type": "execute_result",
     "data": {
      "text/html": [
       "<div>\n",
       "<style scoped>\n",
       "    .dataframe tbody tr th:only-of-type {\n",
       "        vertical-align: middle;\n",
       "    }\n",
       "\n",
       "    .dataframe tbody tr th {\n",
       "        vertical-align: top;\n",
       "    }\n",
       "\n",
       "    .dataframe thead th {\n",
       "        text-align: right;\n",
       "    }\n",
       "</style>\n",
       "<table border=\"1\" class=\"dataframe\">\n",
       "  <thead>\n",
       "    <tr style=\"text-align: right;\">\n",
       "      <th></th>\n",
       "      <th>eta_1</th>\n",
       "      <th>eta_2</th>\n",
       "      <th>eta_3</th>\n",
       "      <th>eta_5</th>\n",
       "      <th>eta_6</th>\n",
       "      <th>eta_7</th>\n",
       "      <th>beta</th>\n",
       "    </tr>\n",
       "  </thead>\n",
       "  <tbody>\n",
       "    <tr>\n",
       "      <th>0</th>\n",
       "      <td>7074.855957</td>\n",
       "      <td>0.061904</td>\n",
       "      <td>0.00009</td>\n",
       "      <td>-0.0</td>\n",
       "      <td>-0.600200</td>\n",
       "      <td>16490.000000</td>\n",
       "      <td>1.121000e+13</td>\n",
       "    </tr>\n",
       "    <tr>\n",
       "      <th>1</th>\n",
       "      <td>19415.013672</td>\n",
       "      <td>0.061694</td>\n",
       "      <td>0.00030</td>\n",
       "      <td>-0.0</td>\n",
       "      <td>-1.107000</td>\n",
       "      <td>9337.000000</td>\n",
       "      <td>1.266000e+08</td>\n",
       "    </tr>\n",
       "    <tr>\n",
       "      <th>2</th>\n",
       "      <td>25530.636719</td>\n",
       "      <td>0.061394</td>\n",
       "      <td>0.00060</td>\n",
       "      <td>-0.0</td>\n",
       "      <td>-0.454100</td>\n",
       "      <td>3073.000000</td>\n",
       "      <td>3.450000e+06</td>\n",
       "    </tr>\n",
       "    <tr>\n",
       "      <th>3</th>\n",
       "      <td>27847.035156</td>\n",
       "      <td>0.060964</td>\n",
       "      <td>0.00103</td>\n",
       "      <td>-0.0</td>\n",
       "      <td>-0.081330</td>\n",
       "      <td>810.099976</td>\n",
       "      <td>9.692000e+05</td>\n",
       "    </tr>\n",
       "    <tr>\n",
       "      <th>4</th>\n",
       "      <td>28659.658203</td>\n",
       "      <td>0.060364</td>\n",
       "      <td>0.00163</td>\n",
       "      <td>-0.0</td>\n",
       "      <td>-0.001677</td>\n",
       "      <td>186.199997</td>\n",
       "      <td>3.113000e+05</td>\n",
       "    </tr>\n",
       "  </tbody>\n",
       "</table>\n",
       "</div>"
      ],
      "text/plain": [
       "          eta_1     eta_2    eta_3  eta_5     eta_6         eta_7          beta\n",
       "0   7074.855957  0.061904  0.00009   -0.0 -0.600200  16490.000000  1.121000e+13\n",
       "1  19415.013672  0.061694  0.00030   -0.0 -1.107000   9337.000000  1.266000e+08\n",
       "2  25530.636719  0.061394  0.00060   -0.0 -0.454100   3073.000000  3.450000e+06\n",
       "3  27847.035156  0.060964  0.00103   -0.0 -0.081330    810.099976  9.692000e+05\n",
       "4  28659.658203  0.060364  0.00163   -0.0 -0.001677    186.199997  3.113000e+05"
      ]
     },
     "metadata": {},
     "execution_count": 9
    }
   ]
  },
  {
   "cell_type": "code",
   "source": [
    "print('Checking data distribution... \\n')\n",
    "plt.style.use('seaborn-darkgrid')\n",
    "dataset.hist(figsize=(16, 10), bins=20)\n",
    "plt.show()"
   ],
   "metadata": {
    "colab": {
     "base_uri": "https://localhost:8080/",
     "height": 651
    },
    "id": "XYFlo19Qsn2y",
    "outputId": "26199a59-56ed-41fa-fc4a-1a114e86aa05"
   },
   "execution_count": 10,
   "outputs": [
    {
     "output_type": "stream",
     "name": "stdout",
     "text": [
      "Checking data distribution... \n",
      "\n"
     ]
    },
    {
     "output_type": "display_data",
     "data": {
      "image/png": "[encoded data removed]",
      "text/plain": [
       "<Figure size 1152x720 with 9 Axes>"
      ]
     },
     "metadata": {}
    }
   ]
  },
  {
   "cell_type": "code",
   "source": [
    "print(f'Dropping samples with beta above {beta_threshold}... \\n')\n",
    "print(f'Original shape: {dataset.shape}\\n')\n",
    "\n",
    "dataset = dataset[dataset.beta < beta_threshold]\n",
    "\n",
    "print(f'New shape: {dataset.shape}\\n')\n",
    "\n",
    "dataset.describe().T"
   ],
   "metadata": {
    "colab": {
     "base_uri": "https://localhost:8080/",
     "height": 373
    },
    "id": "19REvx3PrCWV",
    "outputId": "93e59946-5cab-4ee6-e4b5-027488904737"
   },
   "execution_count": 11,
   "outputs": [
    {
     "output_type": "stream",
     "name": "stdout",
     "text": [
      "Dropping samples with beta above 2000... \n",
      "\n",
      "Original shape: (25992, 7)\n",
      "\n",
      "New shape: (16549, 7)\n",
      "\n"
     ]
    },
    {
     "output_type": "execute_result",
     "data": {
      "text/html": [
       "<div>\n",
       "<style scoped>\n",
       "    .dataframe tbody tr th:only-of-type {\n",
       "        vertical-align: middle;\n",
       "    }\n",
       "\n",
       "    .dataframe tbody tr th {\n",
       "        vertical-align: top;\n",
       "    }\n",
       "\n",
       "    .dataframe thead th {\n",
       "        text-align: right;\n",
       "    }\n",
       "</style>\n",
       "<table border=\"1\" class=\"dataframe\">\n",
       "  <thead>\n",
       "    <tr style=\"text-align: right;\">\n",
       "      <th></th>\n",
       "      <th>count</th>\n",
       "      <th>mean</th>\n",
       "      <th>std</th>\n",
       "      <th>min</th>\n",
       "      <th>25%</th>\n",
       "      <th>50%</th>\n",
       "      <th>75%</th>\n",
       "      <th>max</th>\n",
       "    </tr>\n",
       "  </thead>\n",
       "  <tbody>\n",
       "    <tr>\n",
       "      <th>eta_1</th>\n",
       "      <td>16549.0</td>\n",
       "      <td>17125.681641</td>\n",
       "      <td>5303.111328</td>\n",
       "      <td>2.194923e+03</td>\n",
       "      <td>1.660482e+04</td>\n",
       "      <td>1.725853e+04</td>\n",
       "      <td>17338.337891</td>\n",
       "      <td>28190.968750</td>\n",
       "    </tr>\n",
       "    <tr>\n",
       "      <th>eta_2</th>\n",
       "      <td>16549.0</td>\n",
       "      <td>0.022294</td>\n",
       "      <td>0.016571</td>\n",
       "      <td>1.460000e-04</td>\n",
       "      <td>7.244000e-03</td>\n",
       "      <td>1.986400e-02</td>\n",
       "      <td>0.034799</td>\n",
       "      <td>0.056615</td>\n",
       "    </tr>\n",
       "    <tr>\n",
       "      <th>eta_3</th>\n",
       "      <td>16549.0</td>\n",
       "      <td>0.027306</td>\n",
       "      <td>0.015978</td>\n",
       "      <td>1.742000e-03</td>\n",
       "      <td>1.279000e-02</td>\n",
       "      <td>2.880000e-02</td>\n",
       "      <td>0.036920</td>\n",
       "      <td>0.061160</td>\n",
       "    </tr>\n",
       "    <tr>\n",
       "      <th>eta_5</th>\n",
       "      <td>16549.0</td>\n",
       "      <td>0.516707</td>\n",
       "      <td>0.499765</td>\n",
       "      <td>-5.255000e-29</td>\n",
       "      <td>-5.016000e-35</td>\n",
       "      <td>1.000000e+00</td>\n",
       "      <td>1.000000</td>\n",
       "      <td>1.000000</td>\n",
       "    </tr>\n",
       "    <tr>\n",
       "      <th>eta_6</th>\n",
       "      <td>16549.0</td>\n",
       "      <td>-0.000109</td>\n",
       "      <td>0.376262</td>\n",
       "      <td>-1.295000e+00</td>\n",
       "      <td>-4.540000e-06</td>\n",
       "      <td>6.666000e-08</td>\n",
       "      <td>0.000008</td>\n",
       "      <td>0.997900</td>\n",
       "    </tr>\n",
       "    <tr>\n",
       "      <th>eta_7</th>\n",
       "      <td>16549.0</td>\n",
       "      <td>53.818039</td>\n",
       "      <td>57.671818</td>\n",
       "      <td>1.841000e-01</td>\n",
       "      <td>2.266000e-01</td>\n",
       "      <td>4.924000e+00</td>\n",
       "      <td>103.400002</td>\n",
       "      <td>177.100006</td>\n",
       "    </tr>\n",
       "    <tr>\n",
       "      <th>beta</th>\n",
       "      <td>16549.0</td>\n",
       "      <td>295.904175</td>\n",
       "      <td>418.340027</td>\n",
       "      <td>1.262000e-03</td>\n",
       "      <td>1.747000e+01</td>\n",
       "      <td>1.258000e+02</td>\n",
       "      <td>370.500000</td>\n",
       "      <td>1998.000000</td>\n",
       "    </tr>\n",
       "  </tbody>\n",
       "</table>\n",
       "</div>"
      ],
      "text/plain": [
       "         count          mean  ...           75%           max\n",
       "eta_1  16549.0  17125.681641  ...  17338.337891  28190.968750\n",
       "eta_2  16549.0      0.022294  ...      0.034799      0.056615\n",
       "eta_3  16549.0      0.027306  ...      0.036920      0.061160\n",
       "eta_5  16549.0      0.516707  ...      1.000000      1.000000\n",
       "eta_6  16549.0     -0.000109  ...      0.000008      0.997900\n",
       "eta_7  16549.0     53.818039  ...    103.400002    177.100006\n",
       "beta   16549.0    295.904175  ...    370.500000   1998.000000\n",
       "\n",
       "[7 rows x 8 columns]"
      ]
     },
     "metadata": {},
     "execution_count": 11
    }
   ]
  },
  {
   "cell_type": "code",
   "source": [
    "print('Checking data distribution... \\n')\n",
    "plt.style.use('seaborn-darkgrid')\n",
    "dataset.hist(figsize=(16, 10), bins=20)\n",
    "plt.show()"
   ],
   "metadata": {
    "colab": {
     "base_uri": "https://localhost:8080/",
     "height": 638
    },
    "id": "nqZLyvKQsdUd",
    "outputId": "2008c752-adaa-4496-c693-361df5c1bc7c"
   },
   "execution_count": 12,
   "outputs": [
    {
     "output_type": "stream",
     "name": "stdout",
     "text": [
      "Checking data distribution... \n",
      "\n"
     ]
    },
    {
     "output_type": "display_data",
     "data": {
      "image/png": "[encoded data removed]",
      "text/plain": [
       "<Figure size 1152x720 with 9 Axes>"
      ]
     },
     "metadata": {}
    }
   ]
  },
  {
   "cell_type": "code",
   "source": [
    "from sklearn.preprocessing import MinMaxScaler, StandardScaler, MaxAbsScaler\n",
    "from sklearn.model_selection import train_test_split"
   ],
   "metadata": {
    "id": "K7kTEknutGwV"
   },
   "execution_count": 13,
   "outputs": []
  },
  {
   "cell_type": "code",
   "source": [
    "def scale(df: pd.DataFrame,\n",
    "          scaler: str = 'standard') -> pd.DataFrame:\n",
    "  if scaler == 'standard':\n",
    "    scaler = StandardScaler()\n",
    "  elif scaler == 'maxmin':\n",
    "    scaler = MinMaxScaler()\n",
    "  elif scaler == 'maxabs':\n",
    "    scaler = MaxAbsScaler()\n",
    "  else:\n",
    "    return df\n",
    "\n",
    "  scaler.fit(df)\n",
    "  return pd.DataFrame(scaler.transform(df), columns=df.columns), scaler"
   ],
   "metadata": {
    "id": "xLT_RGwruYys"
   },
   "execution_count": 14,
   "outputs": []
  },
  {
   "cell_type": "code",
   "source": [
    "print(f'scaling dataset with the chosen scaler: {scaler}\\n')\n",
    "normed_dataset, my_scaler = scale(dataset, scaler)\n",
    "normed_dataset.describe().T"
   ],
   "metadata": {
    "colab": {
     "base_uri": "https://localhost:8080/",
     "height": 304
    },
    "id": "DdcneNo9t8id",
    "outputId": "e75125c3-c9f7-4066-95fd-c076d6407617"
   },
   "execution_count": 15,
   "outputs": [
    {
     "output_type": "stream",
     "name": "stdout",
     "text": [
      "scaling dataset with the chosen scaler: standard\n",
      "\n"
     ]
    },
    {
     "output_type": "execute_result",
     "data": {
      "text/html": [
       "<div>\n",
       "<style scoped>\n",
       "    .dataframe tbody tr th:only-of-type {\n",
       "        vertical-align: middle;\n",
       "    }\n",
       "\n",
       "    .dataframe tbody tr th {\n",
       "        vertical-align: top;\n",
       "    }\n",
       "\n",
       "    .dataframe thead th {\n",
       "        text-align: right;\n",
       "    }\n",
       "</style>\n",
       "<table border=\"1\" class=\"dataframe\">\n",
       "  <thead>\n",
       "    <tr style=\"text-align: right;\">\n",
       "      <th></th>\n",
       "      <th>count</th>\n",
       "      <th>mean</th>\n",
       "      <th>std</th>\n",
       "      <th>min</th>\n",
       "      <th>25%</th>\n",
       "      <th>50%</th>\n",
       "      <th>75%</th>\n",
       "      <th>max</th>\n",
       "    </tr>\n",
       "  </thead>\n",
       "  <tbody>\n",
       "    <tr>\n",
       "      <th>eta_1</th>\n",
       "      <td>16549.0</td>\n",
       "      <td>-2.822387e-09</td>\n",
       "      <td>1.000024</td>\n",
       "      <td>-2.815500</td>\n",
       "      <td>-0.098212</td>\n",
       "      <td>0.025057</td>\n",
       "      <td>0.040108</td>\n",
       "      <td>2.086598</td>\n",
       "    </tr>\n",
       "    <tr>\n",
       "      <th>eta_2</th>\n",
       "      <td>16549.0</td>\n",
       "      <td>-7.849271e-07</td>\n",
       "      <td>1.000030</td>\n",
       "      <td>-1.336567</td>\n",
       "      <td>-0.908219</td>\n",
       "      <td>-0.146631</td>\n",
       "      <td>0.754663</td>\n",
       "      <td>2.071209</td>\n",
       "    </tr>\n",
       "    <tr>\n",
       "      <th>eta_3</th>\n",
       "      <td>16549.0</td>\n",
       "      <td>-2.029461e-06</td>\n",
       "      <td>1.000048</td>\n",
       "      <td>-1.599928</td>\n",
       "      <td>-0.908472</td>\n",
       "      <td>0.093539</td>\n",
       "      <td>0.601742</td>\n",
       "      <td>2.118840</td>\n",
       "    </tr>\n",
       "    <tr>\n",
       "      <th>eta_5</th>\n",
       "      <td>16549.0</td>\n",
       "      <td>-6.470880e-06</td>\n",
       "      <td>1.000104</td>\n",
       "      <td>-1.033993</td>\n",
       "      <td>-1.033993</td>\n",
       "      <td>0.967128</td>\n",
       "      <td>0.967128</td>\n",
       "      <td>0.967128</td>\n",
       "    </tr>\n",
       "    <tr>\n",
       "      <th>eta_6</th>\n",
       "      <td>16549.0</td>\n",
       "      <td>-1.706324e-07</td>\n",
       "      <td>1.000029</td>\n",
       "      <td>-3.441569</td>\n",
       "      <td>0.000279</td>\n",
       "      <td>0.000291</td>\n",
       "      <td>0.000313</td>\n",
       "      <td>2.652517</td>\n",
       "    </tr>\n",
       "    <tr>\n",
       "      <th>eta_7</th>\n",
       "      <td>16549.0</td>\n",
       "      <td>-5.908946e-06</td>\n",
       "      <td>1.000024</td>\n",
       "      <td>-0.930087</td>\n",
       "      <td>-0.929350</td>\n",
       "      <td>-0.847896</td>\n",
       "      <td>0.859708</td>\n",
       "      <td>2.137689</td>\n",
       "    </tr>\n",
       "    <tr>\n",
       "      <th>beta</th>\n",
       "      <td>16549.0</td>\n",
       "      <td>1.662260e-07</td>\n",
       "      <td>1.000029</td>\n",
       "      <td>-0.707350</td>\n",
       "      <td>-0.665591</td>\n",
       "      <td>-0.406632</td>\n",
       "      <td>0.178317</td>\n",
       "      <td>4.068812</td>\n",
       "    </tr>\n",
       "  </tbody>\n",
       "</table>\n",
       "</div>"
      ],
      "text/plain": [
       "         count          mean       std  ...       50%       75%       max\n",
       "eta_1  16549.0 -2.822387e-09  1.000024  ...  0.025057  0.040108  2.086598\n",
       "eta_2  16549.0 -7.849271e-07  1.000030  ... -0.146631  0.754663  2.071209\n",
       "eta_3  16549.0 -2.029461e-06  1.000048  ...  0.093539  0.601742  2.118840\n",
       "eta_5  16549.0 -6.470880e-06  1.000104  ...  0.967128  0.967128  0.967128\n",
       "eta_6  16549.0 -1.706324e-07  1.000029  ...  0.000291  0.000313  2.652517\n",
       "eta_7  16549.0 -5.908946e-06  1.000024  ... -0.847896  0.859708  2.137689\n",
       "beta   16549.0  1.662260e-07  1.000029  ... -0.406632  0.178317  4.068812\n",
       "\n",
       "[7 rows x 8 columns]"
      ]
     },
     "metadata": {},
     "execution_count": 15
    }
   ]
  },
  {
   "cell_type": "code",
   "source": [
    "print(f'Splitting data in 3 dataset for training - validation - test... (shuffle: {shuffle_data})\\n')\n",
    "\n",
    "if shuffle_data:\n",
    "  train, validate, test = np.split(normed_dataset.sample(frac=1, random_state=22), \n",
    "                                  [int(.6*len(normed_dataset)), int(.8*len(normed_dataset))])\n",
    "else:\n",
    "    train, validate, test = np.split(normed_dataset, \n",
    "                                  [int(.6*len(normed_dataset)), int(.8*len(normed_dataset))])\n",
    "\n",
    "print(f'Train shape: {train.shape}')\n",
    "print(f'Validate shape: {validate.shape}')\n",
    "print(f'Test shape: {test.shape}')"
   ],
   "metadata": {
    "colab": {
     "base_uri": "https://localhost:8080/"
    },
    "id": "4zhqXSkUvOmv",
    "outputId": "65d39da2-f83f-4bfa-efd9-5bfc1fcb74b9"
   },
   "execution_count": 16,
   "outputs": [
    {
     "output_type": "stream",
     "name": "stdout",
     "text": [
      "Splitting data in 3 dataset for training - validation - test... (shuffle: True)\n",
      "\n",
      "Train shape: (9929, 7)\n",
      "Validate shape: (3310, 7)\n",
      "Test shape: (3310, 7)\n"
     ]
    }
   ]
  },
  {
   "cell_type": "code",
   "source": [
    "import torch.nn as nn\n",
    "import torch\n",
    "\n",
    "class RegNet1D(nn.Module):\n",
    "    def __init__(self,\n",
    "                 num_feature: int = 10,\n",
    "                 num_class: int = 1,\n",
    "                 dropout_rate: float = 0.0,\n",
    "                 neurons: list = [64, 32,],\n",
    "                 activation: str = 'relu') -> None:\n",
    "        \n",
    "        super(RegNet1D, self).__init__()\n",
    "\n",
    "        self.fc1 = nn.Linear(num_feature, neurons[0])\n",
    "        self.fc2 = nn.Linear(neurons[0], neurons[1])\n",
    "\n",
    "        self.layer_out = nn.Linear(neurons[1], num_class)\n",
    "\n",
    "        if activation == 'relu':\n",
    "          self.act = nn.ReLU()\n",
    "        elif activation == 'tanh':\n",
    "          self.act = nn.Tanh()\n",
    "        else:\n",
    "          self.act = nn.ReLU()\n",
    "\n",
    "        self.dropout = nn.Dropout(p=dropout_rate)\n",
    "        self.bn1 = nn.BatchNorm1d(neurons[0])\n",
    "        self.bn2 = nn.BatchNorm1d(neurons[1])\n",
    "\n",
    "    def forward(self, x) -> torch.Tensor:\n",
    "        x = self.fc1(x)\n",
    "        x = self.bn1(x)\n",
    "        x = self.act(x)\n",
    "        x = self.dropout(x)\n",
    "\n",
    "        x = self.fc2(x)\n",
    "        x = self.bn2(x)\n",
    "        x = self.act(x)\n",
    "        x = self.dropout(x)\n",
    "\n",
    "        x = self.layer_out(x)\n",
    "\n",
    "        return x"
   ],
   "metadata": {
    "id": "LACmU3uKv1FZ"
   },
   "execution_count": 17,
   "outputs": []
  },
  {
   "cell_type": "code",
   "source": [
    "device = torch.device(\"cuda:0\" if torch.cuda.is_available() else \"cpu\")\n",
    "print(f'working on {device}')"
   ],
   "metadata": {
    "colab": {
     "base_uri": "https://localhost:8080/"
    },
    "id": "iTSSyh4vw0b3",
    "outputId": "00fa2024-616d-4961-ae3e-b2621f966b5b"
   },
   "execution_count": 18,
   "outputs": [
    {
     "output_type": "stream",
     "name": "stdout",
     "text": [
      "working on cuda:0\n"
     ]
    }
   ]
  },
  {
   "cell_type": "code",
   "source": [
    "model = RegNet1D(\n",
    "    num_feature=train.shape[1] - n_outputs,\n",
    "    num_class=1,\n",
    "    neurons=neurons,\n",
    "    dropout_rate=dropout_rate,\n",
    "    activation=activation\n",
    "    ).to(device)\n",
    "model"
   ],
   "metadata": {
    "colab": {
     "base_uri": "https://localhost:8080/"
    },
    "id": "-a4RWV5Fw4Cz",
    "outputId": "5c3e599b-9daf-4211-a6c6-40e0cf6c530f"
   },
   "execution_count": 19,
   "outputs": [
    {
     "output_type": "execute_result",
     "data": {
      "text/plain": [
       "RegNet1D(\n",
       "  (fc1): Linear(in_features=6, out_features=256, bias=True)\n",
       "  (fc2): Linear(in_features=256, out_features=256, bias=True)\n",
       "  (layer_out): Linear(in_features=256, out_features=1, bias=True)\n",
       "  (act): ReLU()\n",
       "  (dropout): Dropout(p=0.2, inplace=False)\n",
       "  (bn1): BatchNorm1d(256, eps=1e-05, momentum=0.1, affine=True, track_running_stats=True)\n",
       "  (bn2): BatchNorm1d(256, eps=1e-05, momentum=0.1, affine=True, track_running_stats=True)\n",
       ")"
      ]
     },
     "metadata": {},
     "execution_count": 19
    }
   ]
  },
  {
   "cell_type": "code",
   "source": [
    "import torchsummary\n",
    "torchsummary.summary(model, (train.shape[1] - n_outputs,), batch_size=batch_size)"
   ],
   "metadata": {
    "colab": {
     "base_uri": "https://localhost:8080/"
    },
    "id": "nsGc5dM0w-3N",
    "outputId": "0af8ab32-24b8-4a59-89e0-ac44a6a647e6"
   },
   "execution_count": 20,
   "outputs": [
    {
     "output_type": "stream",
     "name": "stdout",
     "text": [
      "----------------------------------------------------------------\n",
      "        Layer (type)               Output Shape         Param #\n",
      "================================================================\n",
      "            Linear-1                 [256, 256]           1,792\n",
      "       BatchNorm1d-2                 [256, 256]             512\n",
      "              ReLU-3                 [256, 256]               0\n",
      "           Dropout-4                 [256, 256]               0\n",
      "            Linear-5                 [256, 256]          65,792\n",
      "       BatchNorm1d-6                 [256, 256]             512\n",
      "              ReLU-7                 [256, 256]               0\n",
      "           Dropout-8                 [256, 256]               0\n",
      "            Linear-9                   [256, 1]             257\n",
      "================================================================\n",
      "Total params: 68,865\n",
      "Trainable params: 68,865\n",
      "Non-trainable params: 0\n",
      "----------------------------------------------------------------\n",
      "Input size (MB): 0.01\n",
      "Forward/backward pass size (MB): 4.00\n",
      "Params size (MB): 0.26\n",
      "Estimated Total Size (MB): 4.27\n",
      "----------------------------------------------------------------\n"
     ]
    }
   ]
  },
  {
   "cell_type": "code",
   "source": [
    "print(f'Loss function: {loss}\\n')\n",
    "if loss == 'mse':\n",
    "  criterion = nn.MSELoss()\n",
    "elif loss == 'mae':\n",
    "  criterion = nn.L1Loss()\n",
    "else:\n",
    "  criterion = nn.MSELoss()"
   ],
   "metadata": {
    "colab": {
     "base_uri": "https://localhost:8080/"
    },
    "id": "HvC-vWXxxEYy",
    "outputId": "feaaf9fb-6e23-47fd-c41a-a221468ae4d3"
   },
   "execution_count": 21,
   "outputs": [
    {
     "output_type": "stream",
     "name": "stdout",
     "text": [
      "Loss function: mse\n",
      "\n"
     ]
    }
   ]
  },
  {
   "cell_type": "code",
   "source": [
    "print(f'optimizer: {optimizer_type}\\n')\n",
    "\n",
    "if optimizer_type == 'adam':\n",
    "  optimizer = torch.optim.Adam(model.parameters(), lr=learning_rate)\n",
    "elif optimizer_type == 'sgd':\n",
    "  optimizer = torch.optim.SGD(model.parameters(), lr=learning_rate, momentum=0.9, nesterov=True)\n",
    "elif optimizer_type == 'rmsprop':\n",
    "  optimizer = torch.optim.RMSprop(model.parameters(), lr=learning_rate)\n",
    "else:\n",
    "  optimizer = torch.optim.Adam(model.parameters(), lr=learning_rate)"
   ],
   "metadata": {
    "colab": {
     "base_uri": "https://localhost:8080/"
    },
    "id": "9PlkyHNNy5Ww",
    "outputId": "dcb65b0d-2b90-4177-834c-2f135ad18fc1"
   },
   "execution_count": 22,
   "outputs": [
    {
     "output_type": "stream",
     "name": "stdout",
     "text": [
      "optimizer: adam\n",
      "\n"
     ]
    }
   ]
  },
  {
   "cell_type": "code",
   "source": [
    "class CustomLogger(object):\n",
    "    def __init__(self):\n",
    "        self.accuracy = {\n",
    "            'train': [],\n",
    "            'val': []\n",
    "        }\n",
    "        self.loss = {\n",
    "            'train': [],\n",
    "            'val': []\n",
    "        }"
   ],
   "metadata": {
    "id": "mUEtTPYNzoZC"
   },
   "execution_count": 23,
   "outputs": []
  },
  {
   "cell_type": "code",
   "source": [
    "n_inputs = train.shape[1] - n_outputs\n",
    "\n",
    "X_train = train.to_numpy()[:, :n_inputs]\n",
    "X_val = validate.to_numpy()[:, :n_inputs]\n",
    "X_test = test.to_numpy()[:, :n_inputs]\n",
    "\n",
    "y_train = train.to_numpy()[:, n_inputs:n_inputs + n_outputs]\n",
    "y_val = validate.to_numpy()[:, n_inputs:n_inputs + n_outputs]\n",
    "y_test = test.to_numpy()[:, n_inputs:n_inputs + n_outputs]"
   ],
   "metadata": {
    "id": "HHwdk0Lu1N27"
   },
   "execution_count": 24,
   "outputs": []
  },
  {
   "cell_type": "code",
   "source": [
    "from torch.utils.data import Dataset, DataLoader\n",
    "\n",
    "class RegressionDataset(Dataset):\n",
    "\n",
    "    def __init__(self, X_data, y_data):\n",
    "        self.X_data = X_data\n",
    "        self.y_data = y_data\n",
    "\n",
    "    def __getitem__(self, index):\n",
    "        return self.X_data[index], self.y_data[index]\n",
    "\n",
    "    def __len__ (self):\n",
    "        return len(self.X_data)\n",
    "\n",
    "\n",
    "train_dataset = RegressionDataset(torch.from_numpy(X_train).float(), torch.from_numpy(y_train).float())\n",
    "val_dataset = RegressionDataset(torch.from_numpy(X_val).float(), torch.from_numpy(y_val).float())"
   ],
   "metadata": {
    "id": "4gDbj_vHz1Bo"
   },
   "execution_count": 25,
   "outputs": []
  },
  {
   "cell_type": "code",
   "source": [
    "from sklearn.metrics import r2_score\n",
    "import copy\n",
    "\n",
    "print(\"Starting Training...\\n\")\n",
    "\n",
    "Logger = CustomLogger()\n",
    "train_loader = DataLoader(train_dataset, batch_size=batch_size, shuffle=shuffle_data, drop_last=True)\n",
    "val_loader = DataLoader(val_dataset, batch_size=batch_size, shuffle=shuffle_data, drop_last=True)\n",
    "\n",
    "model.train()\n",
    "best_model = None\n",
    "best_acc = -1000\n",
    "\n",
    "for epoch in range(0, epochs):\n",
    "    train_epoch_loss = 0\n",
    "    train_epoch_acc = 0\n",
    "    for X_train_batch, y_train_batch in train_loader:\n",
    "        X_train_batch, y_train_batch = X_train_batch.to(device), y_train_batch.to(device).view(-1, 1)\n",
    "\n",
    "        optimizer.zero_grad()\n",
    "\n",
    "        y_train_pred = model(X_train_batch)\n",
    "        train_loss = criterion(y_train_pred, y_train_batch)\n",
    "        \n",
    "        train_acc = r2_score(y_train_pred.cpu().detach().numpy(),\n",
    "                             y_train_batch.cpu().detach().numpy())\n",
    "\n",
    "        train_loss.backward()\n",
    "        optimizer.step()\n",
    "\n",
    "        train_epoch_loss += train_loss.item()\n",
    "        train_epoch_acc += train_acc.item()\n",
    "\n",
    "    with torch.no_grad():\n",
    "\n",
    "        val_epoch_loss = 0\n",
    "        val_epoch_acc = 0\n",
    "\n",
    "        model.eval()\n",
    "        for X_val_batch, y_val_batch in val_loader:\n",
    "            X_val_batch, y_val_batch = X_val_batch.to(device), y_val_batch.to(device).view(-1, 1)\n",
    "\n",
    "            y_val_pred = model(X_val_batch)\n",
    "\n",
    "            val_loss = criterion(y_val_pred, y_val_batch)\n",
    "            val_acc = r2_score(y_val_pred.cpu().detach().numpy(),\n",
    "                               y_val_batch.cpu().detach().numpy())\n",
    "\n",
    "            val_epoch_loss += val_loss.item()\n",
    "            val_epoch_acc += val_acc.item()\n",
    "\n",
    "    Logger.loss['train'].append(train_epoch_loss/len(train_loader))\n",
    "    Logger.loss['val'].append(val_epoch_loss/len(val_loader))\n",
    "    Logger.accuracy['train'].append(train_epoch_acc/len(train_loader))\n",
    "    Logger.accuracy['val'].append(val_epoch_acc/len(val_loader))\n",
    "\n",
    "    print(f'Epoch {epoch+1+0:04}: | Train Loss: {train_epoch_loss/len(train_loader):.5f} | Val Loss: {val_epoch_loss/len(val_loader):.5f} | Train Acc: {train_epoch_acc/len(train_loader):.3f} | Val Acc: {val_epoch_acc/len(val_loader):.3f} |')\n",
    "    \n",
    "    if val_epoch_acc > best_acc:\n",
    "        print('Saving a new best model')\n",
    "        best_model = copy.deepcopy(model)\n",
    "        best_acc = val_epoch_acc"
   ],
   "metadata": {
    "colab": {
     "base_uri": "https://localhost:8080/"
    },
    "id": "RnugnJJK0rLc",
    "outputId": "f1c5a152-5cd9-45fa-8991-3b7ea8bb6c05"
   },
   "execution_count": 26,
   "outputs": [
    {
     "output_type": "stream",
     "name": "stdout",
     "text": [
      "Starting Training...\n",
      "\n",
      "Epoch 0001: | Train Loss: 0.69544 | Val Loss: 0.50979 | Train Acc: -1.457 | Val Acc: -0.269 |\n",
      "Saving a new best model\n",
      "Epoch 0002: | Train Loss: 0.47343 | Val Loss: 0.45785 | Train Acc: 0.001 | Val Acc: 0.100 |\n",
      "Saving a new best model\n",
      "Epoch 0003: | Train Loss: 0.44259 | Val Loss: 0.43559 | Train Acc: 0.112 | Val Acc: 0.207 |\n",
      "Saving a new best model\n",
      "Epoch 0004: | Train Loss: 0.43057 | Val Loss: 0.42752 | Train Acc: 0.166 | Val Acc: 0.215 |\n",
      "Saving a new best model\n",
      "Epoch 0005: | Train Loss: 0.41781 | Val Loss: 0.40542 | Train Acc: 0.204 | Val Acc: 0.246 |\n",
      "Saving a new best model\n",
      "Epoch 0006: | Train Loss: 0.40706 | Val Loss: 0.40061 | Train Acc: 0.249 | Val Acc: 0.240 |\n",
      "Epoch 0007: | Train Loss: 0.39860 | Val Loss: 0.40591 | Train Acc: 0.264 | Val Acc: 0.333 |\n",
      "Saving a new best model\n",
      "Epoch 0008: | Train Loss: 0.39155 | Val Loss: 0.39418 | Train Acc: 0.289 | Val Acc: 0.309 |\n",
      "Epoch 0009: | Train Loss: 0.38335 | Val Loss: 0.38263 | Train Acc: 0.315 | Val Acc: 0.284 |\n",
      "Epoch 0010: | Train Loss: 0.37850 | Val Loss: 0.37218 | Train Acc: 0.333 | Val Acc: 0.340 |\n",
      "Saving a new best model\n",
      "Epoch 0011: | Train Loss: 0.37600 | Val Loss: 0.37738 | Train Acc: 0.326 | Val Acc: 0.429 |\n",
      "Saving a new best model\n",
      "Epoch 0012: | Train Loss: 0.36913 | Val Loss: 0.36376 | Train Acc: 0.365 | Val Acc: 0.394 |\n",
      "Epoch 0013: | Train Loss: 0.36845 | Val Loss: 0.36285 | Train Acc: 0.367 | Val Acc: 0.419 |\n",
      "Epoch 0014: | Train Loss: 0.35947 | Val Loss: 0.36912 | Train Acc: 0.386 | Val Acc: 0.358 |\n",
      "Epoch 0015: | Train Loss: 0.35728 | Val Loss: 0.36061 | Train Acc: 0.390 | Val Acc: 0.393 |\n",
      "Epoch 0016: | Train Loss: 0.35230 | Val Loss: 0.35751 | Train Acc: 0.415 | Val Acc: 0.411 |\n",
      "Epoch 0017: | Train Loss: 0.34699 | Val Loss: 0.35417 | Train Acc: 0.413 | Val Acc: 0.323 |\n",
      "Epoch 0018: | Train Loss: 0.34388 | Val Loss: 0.34057 | Train Acc: 0.425 | Val Acc: 0.423 |\n",
      "Epoch 0019: | Train Loss: 0.34597 | Val Loss: 0.34402 | Train Acc: 0.431 | Val Acc: 0.491 |\n",
      "Saving a new best model\n",
      "Epoch 0020: | Train Loss: 0.33734 | Val Loss: 0.34582 | Train Acc: 0.446 | Val Acc: 0.472 |\n",
      "Epoch 0021: | Train Loss: 0.33383 | Val Loss: 0.34508 | Train Acc: 0.455 | Val Acc: 0.427 |\n",
      "Epoch 0022: | Train Loss: 0.33201 | Val Loss: 0.32510 | Train Acc: 0.463 | Val Acc: 0.507 |\n",
      "Saving a new best model\n",
      "Epoch 0023: | Train Loss: 0.32844 | Val Loss: 0.34025 | Train Acc: 0.463 | Val Acc: 0.518 |\n",
      "Saving a new best model\n",
      "Epoch 0024: | Train Loss: 0.32378 | Val Loss: 0.33096 | Train Acc: 0.484 | Val Acc: 0.501 |\n",
      "Epoch 0025: | Train Loss: 0.32311 | Val Loss: 0.32795 | Train Acc: 0.487 | Val Acc: 0.484 |\n",
      "Epoch 0026: | Train Loss: 0.32152 | Val Loss: 0.32262 | Train Acc: 0.486 | Val Acc: 0.549 |\n",
      "Saving a new best model\n",
      "Epoch 0027: | Train Loss: 0.31733 | Val Loss: 0.32729 | Train Acc: 0.507 | Val Acc: 0.498 |\n",
      "Epoch 0028: | Train Loss: 0.31713 | Val Loss: 0.32421 | Train Acc: 0.499 | Val Acc: 0.510 |\n",
      "Epoch 0029: | Train Loss: 0.31521 | Val Loss: 0.31797 | Train Acc: 0.505 | Val Acc: 0.476 |\n",
      "Epoch 0030: | Train Loss: 0.31585 | Val Loss: 0.32436 | Train Acc: 0.506 | Val Acc: 0.540 |\n",
      "Epoch 0031: | Train Loss: 0.31318 | Val Loss: 0.32032 | Train Acc: 0.522 | Val Acc: 0.496 |\n",
      "Epoch 0032: | Train Loss: 0.30641 | Val Loss: 0.31336 | Train Acc: 0.524 | Val Acc: 0.514 |\n",
      "Epoch 0033: | Train Loss: 0.30764 | Val Loss: 0.31858 | Train Acc: 0.528 | Val Acc: 0.441 |\n",
      "Epoch 0034: | Train Loss: 0.30654 | Val Loss: 0.31926 | Train Acc: 0.521 | Val Acc: 0.452 |\n",
      "Epoch 0035: | Train Loss: 0.30477 | Val Loss: 0.31590 | Train Acc: 0.538 | Val Acc: 0.508 |\n",
      "Epoch 0036: | Train Loss: 0.30095 | Val Loss: 0.31503 | Train Acc: 0.538 | Val Acc: 0.558 |\n",
      "Saving a new best model\n",
      "Epoch 0037: | Train Loss: 0.29850 | Val Loss: 0.30483 | Train Acc: 0.542 | Val Acc: 0.536 |\n",
      "Epoch 0038: | Train Loss: 0.30066 | Val Loss: 0.29533 | Train Acc: 0.550 | Val Acc: 0.496 |\n",
      "Epoch 0039: | Train Loss: 0.29556 | Val Loss: 0.30654 | Train Acc: 0.552 | Val Acc: 0.511 |\n",
      "Epoch 0040: | Train Loss: 0.29459 | Val Loss: 0.30098 | Train Acc: 0.547 | Val Acc: 0.568 |\n",
      "Saving a new best model\n",
      "Epoch 0041: | Train Loss: 0.29271 | Val Loss: 0.29500 | Train Acc: 0.558 | Val Acc: 0.566 |\n",
      "Epoch 0042: | Train Loss: 0.28747 | Val Loss: 0.30084 | Train Acc: 0.567 | Val Acc: 0.597 |\n",
      "Saving a new best model\n",
      "Epoch 0043: | Train Loss: 0.28747 | Val Loss: 0.29735 | Train Acc: 0.573 | Val Acc: 0.535 |\n",
      "Epoch 0044: | Train Loss: 0.29297 | Val Loss: 0.29713 | Train Acc: 0.566 | Val Acc: 0.570 |\n",
      "Epoch 0045: | Train Loss: 0.29231 | Val Loss: 0.29862 | Train Acc: 0.568 | Val Acc: 0.592 |\n",
      "Epoch 0046: | Train Loss: 0.28974 | Val Loss: 0.30464 | Train Acc: 0.571 | Val Acc: 0.578 |\n",
      "Epoch 0047: | Train Loss: 0.28920 | Val Loss: 0.29547 | Train Acc: 0.569 | Val Acc: 0.579 |\n",
      "Epoch 0048: | Train Loss: 0.28413 | Val Loss: 0.29712 | Train Acc: 0.586 | Val Acc: 0.583 |\n",
      "Epoch 0049: | Train Loss: 0.28684 | Val Loss: 0.29896 | Train Acc: 0.584 | Val Acc: 0.555 |\n",
      "Epoch 0050: | Train Loss: 0.28230 | Val Loss: 0.29237 | Train Acc: 0.584 | Val Acc: 0.582 |\n",
      "Epoch 0051: | Train Loss: 0.28013 | Val Loss: 0.29458 | Train Acc: 0.597 | Val Acc: 0.546 |\n",
      "Epoch 0052: | Train Loss: 0.28287 | Val Loss: 0.28782 | Train Acc: 0.578 | Val Acc: 0.608 |\n",
      "Saving a new best model\n",
      "Epoch 0053: | Train Loss: 0.28142 | Val Loss: 0.31163 | Train Acc: 0.588 | Val Acc: 0.608 |\n",
      "Epoch 0054: | Train Loss: 0.28463 | Val Loss: 0.30750 | Train Acc: 0.601 | Val Acc: 0.473 |\n",
      "Epoch 0055: | Train Loss: 0.28681 | Val Loss: 0.29681 | Train Acc: 0.576 | Val Acc: 0.518 |\n",
      "Epoch 0056: | Train Loss: 0.28512 | Val Loss: 0.29923 | Train Acc: 0.595 | Val Acc: 0.523 |\n",
      "Epoch 0057: | Train Loss: 0.28253 | Val Loss: 0.29969 | Train Acc: 0.590 | Val Acc: 0.604 |\n",
      "Epoch 0058: | Train Loss: 0.27957 | Val Loss: 0.29182 | Train Acc: 0.604 | Val Acc: 0.584 |\n",
      "Epoch 0059: | Train Loss: 0.28104 | Val Loss: 0.28931 | Train Acc: 0.593 | Val Acc: 0.570 |\n",
      "Epoch 0060: | Train Loss: 0.27756 | Val Loss: 0.29843 | Train Acc: 0.600 | Val Acc: 0.518 |\n",
      "Epoch 0061: | Train Loss: 0.27899 | Val Loss: 0.29216 | Train Acc: 0.594 | Val Acc: 0.550 |\n",
      "Epoch 0062: | Train Loss: 0.27794 | Val Loss: 0.29217 | Train Acc: 0.602 | Val Acc: 0.562 |\n",
      "Epoch 0063: | Train Loss: 0.27893 | Val Loss: 0.29316 | Train Acc: 0.605 | Val Acc: 0.629 |\n",
      "Saving a new best model\n",
      "Epoch 0064: | Train Loss: 0.27399 | Val Loss: 0.28754 | Train Acc: 0.609 | Val Acc: 0.606 |\n",
      "Epoch 0065: | Train Loss: 0.27290 | Val Loss: 0.27938 | Train Acc: 0.607 | Val Acc: 0.622 |\n",
      "Epoch 0066: | Train Loss: 0.27991 | Val Loss: 0.29140 | Train Acc: 0.608 | Val Acc: 0.560 |\n",
      "Epoch 0067: | Train Loss: 0.27381 | Val Loss: 0.29237 | Train Acc: 0.605 | Val Acc: 0.606 |\n",
      "Epoch 0068: | Train Loss: 0.27533 | Val Loss: 0.28426 | Train Acc: 0.612 | Val Acc: 0.627 |\n",
      "Epoch 0069: | Train Loss: 0.27060 | Val Loss: 0.28570 | Train Acc: 0.612 | Val Acc: 0.599 |\n",
      "Epoch 0070: | Train Loss: 0.27072 | Val Loss: 0.28937 | Train Acc: 0.617 | Val Acc: 0.600 |\n",
      "Epoch 0071: | Train Loss: 0.27473 | Val Loss: 0.28397 | Train Acc: 0.616 | Val Acc: 0.593 |\n",
      "Epoch 0072: | Train Loss: 0.27074 | Val Loss: 0.28970 | Train Acc: 0.609 | Val Acc: 0.637 |\n",
      "Saving a new best model\n",
      "Epoch 0073: | Train Loss: 0.27202 | Val Loss: 0.29008 | Train Acc: 0.614 | Val Acc: 0.615 |\n",
      "Epoch 0074: | Train Loss: 0.26904 | Val Loss: 0.28912 | Train Acc: 0.616 | Val Acc: 0.618 |\n",
      "Epoch 0075: | Train Loss: 0.27004 | Val Loss: 0.27979 | Train Acc: 0.622 | Val Acc: 0.585 |\n",
      "Epoch 0076: | Train Loss: 0.27264 | Val Loss: 0.28192 | Train Acc: 0.615 | Val Acc: 0.595 |\n",
      "Epoch 0077: | Train Loss: 0.27135 | Val Loss: 0.29038 | Train Acc: 0.618 | Val Acc: 0.551 |\n",
      "Epoch 0078: | Train Loss: 0.27119 | Val Loss: 0.28227 | Train Acc: 0.615 | Val Acc: 0.622 |\n",
      "Epoch 0079: | Train Loss: 0.27235 | Val Loss: 0.28415 | Train Acc: 0.621 | Val Acc: 0.622 |\n",
      "Epoch 0080: | Train Loss: 0.27075 | Val Loss: 0.28508 | Train Acc: 0.612 | Val Acc: 0.616 |\n",
      "Epoch 0081: | Train Loss: 0.27042 | Val Loss: 0.27964 | Train Acc: 0.628 | Val Acc: 0.616 |\n",
      "Epoch 0082: | Train Loss: 0.26850 | Val Loss: 0.27717 | Train Acc: 0.622 | Val Acc: 0.607 |\n",
      "Epoch 0083: | Train Loss: 0.26846 | Val Loss: 0.28474 | Train Acc: 0.623 | Val Acc: 0.579 |\n",
      "Epoch 0084: | Train Loss: 0.27297 | Val Loss: 0.28420 | Train Acc: 0.621 | Val Acc: 0.597 |\n",
      "Epoch 0085: | Train Loss: 0.26944 | Val Loss: 0.28920 | Train Acc: 0.622 | Val Acc: 0.618 |\n",
      "Epoch 0086: | Train Loss: 0.26635 | Val Loss: 0.27985 | Train Acc: 0.629 | Val Acc: 0.633 |\n",
      "Epoch 0087: | Train Loss: 0.26654 | Val Loss: 0.28298 | Train Acc: 0.627 | Val Acc: 0.601 |\n",
      "Epoch 0088: | Train Loss: 0.26699 | Val Loss: 0.29039 | Train Acc: 0.622 | Val Acc: 0.653 |\n",
      "Saving a new best model\n",
      "Epoch 0089: | Train Loss: 0.27087 | Val Loss: 0.29458 | Train Acc: 0.629 | Val Acc: 0.633 |\n",
      "Epoch 0090: | Train Loss: 0.26832 | Val Loss: 0.27544 | Train Acc: 0.629 | Val Acc: 0.616 |\n",
      "Epoch 0091: | Train Loss: 0.26445 | Val Loss: 0.28909 | Train Acc: 0.634 | Val Acc: 0.605 |\n",
      "Epoch 0092: | Train Loss: 0.26793 | Val Loss: 0.28979 | Train Acc: 0.629 | Val Acc: 0.620 |\n",
      "Epoch 0093: | Train Loss: 0.26817 | Val Loss: 0.27216 | Train Acc: 0.636 | Val Acc: 0.629 |\n",
      "Epoch 0094: | Train Loss: 0.26820 | Val Loss: 0.28391 | Train Acc: 0.630 | Val Acc: 0.637 |\n",
      "Epoch 0095: | Train Loss: 0.26532 | Val Loss: 0.29035 | Train Acc: 0.623 | Val Acc: 0.643 |\n",
      "Epoch 0096: | Train Loss: 0.26529 | Val Loss: 0.28750 | Train Acc: 0.637 | Val Acc: 0.625 |\n",
      "Epoch 0097: | Train Loss: 0.26143 | Val Loss: 0.28489 | Train Acc: 0.634 | Val Acc: 0.642 |\n",
      "Epoch 0098: | Train Loss: 0.26512 | Val Loss: 0.29295 | Train Acc: 0.633 | Val Acc: 0.644 |\n",
      "Epoch 0099: | Train Loss: 0.26522 | Val Loss: 0.27518 | Train Acc: 0.637 | Val Acc: 0.642 |\n",
      "Epoch 0100: | Train Loss: 0.26145 | Val Loss: 0.28174 | Train Acc: 0.643 | Val Acc: 0.608 |\n",
      "Epoch 0101: | Train Loss: 0.26470 | Val Loss: 0.27796 | Train Acc: 0.633 | Val Acc: 0.649 |\n",
      "Epoch 0102: | Train Loss: 0.26206 | Val Loss: 0.28575 | Train Acc: 0.641 | Val Acc: 0.644 |\n",
      "Epoch 0103: | Train Loss: 0.26584 | Val Loss: 0.27664 | Train Acc: 0.634 | Val Acc: 0.662 |\n",
      "Saving a new best model\n",
      "Epoch 0104: | Train Loss: 0.26545 | Val Loss: 0.28843 | Train Acc: 0.638 | Val Acc: 0.633 |\n",
      "Epoch 0105: | Train Loss: 0.26524 | Val Loss: 0.28824 | Train Acc: 0.630 | Val Acc: 0.622 |\n",
      "Epoch 0106: | Train Loss: 0.26563 | Val Loss: 0.28020 | Train Acc: 0.634 | Val Acc: 0.634 |\n",
      "Epoch 0107: | Train Loss: 0.26273 | Val Loss: 0.28103 | Train Acc: 0.645 | Val Acc: 0.607 |\n",
      "Epoch 0108: | Train Loss: 0.26307 | Val Loss: 0.28200 | Train Acc: 0.641 | Val Acc: 0.612 |\n",
      "Epoch 0109: | Train Loss: 0.27176 | Val Loss: 0.27806 | Train Acc: 0.629 | Val Acc: 0.600 |\n",
      "Epoch 0110: | Train Loss: 0.26574 | Val Loss: 0.27268 | Train Acc: 0.634 | Val Acc: 0.635 |\n",
      "Epoch 0111: | Train Loss: 0.26099 | Val Loss: 0.27438 | Train Acc: 0.648 | Val Acc: 0.644 |\n",
      "Epoch 0112: | Train Loss: 0.26242 | Val Loss: 0.27900 | Train Acc: 0.647 | Val Acc: 0.627 |\n",
      "Epoch 0113: | Train Loss: 0.26816 | Val Loss: 0.28591 | Train Acc: 0.629 | Val Acc: 0.579 |\n",
      "Epoch 0114: | Train Loss: 0.26666 | Val Loss: 0.28127 | Train Acc: 0.637 | Val Acc: 0.639 |\n",
      "Epoch 0115: | Train Loss: 0.26132 | Val Loss: 0.27629 | Train Acc: 0.645 | Val Acc: 0.629 |\n",
      "Epoch 0116: | Train Loss: 0.26714 | Val Loss: 0.27593 | Train Acc: 0.633 | Val Acc: 0.633 |\n",
      "Epoch 0117: | Train Loss: 0.26883 | Val Loss: 0.29021 | Train Acc: 0.636 | Val Acc: 0.652 |\n",
      "Epoch 0118: | Train Loss: 0.26316 | Val Loss: 0.28267 | Train Acc: 0.636 | Val Acc: 0.646 |\n",
      "Epoch 0119: | Train Loss: 0.26360 | Val Loss: 0.28078 | Train Acc: 0.645 | Val Acc: 0.611 |\n",
      "Epoch 0120: | Train Loss: 0.26377 | Val Loss: 0.27625 | Train Acc: 0.636 | Val Acc: 0.620 |\n",
      "Epoch 0121: | Train Loss: 0.26407 | Val Loss: 0.28138 | Train Acc: 0.643 | Val Acc: 0.657 |\n",
      "Epoch 0122: | Train Loss: 0.26345 | Val Loss: 0.28129 | Train Acc: 0.637 | Val Acc: 0.640 |\n",
      "Epoch 0123: | Train Loss: 0.26326 | Val Loss: 0.28695 | Train Acc: 0.645 | Val Acc: 0.590 |\n",
      "Epoch 0124: | Train Loss: 0.26554 | Val Loss: 0.27943 | Train Acc: 0.627 | Val Acc: 0.627 |\n",
      "Epoch 0125: | Train Loss: 0.26415 | Val Loss: 0.27528 | Train Acc: 0.642 | Val Acc: 0.617 |\n",
      "Epoch 0126: | Train Loss: 0.26233 | Val Loss: 0.28098 | Train Acc: 0.640 | Val Acc: 0.633 |\n",
      "Epoch 0127: | Train Loss: 0.26333 | Val Loss: 0.28119 | Train Acc: 0.645 | Val Acc: 0.635 |\n",
      "Epoch 0128: | Train Loss: 0.26462 | Val Loss: 0.28416 | Train Acc: 0.638 | Val Acc: 0.615 |\n",
      "Epoch 0129: | Train Loss: 0.26081 | Val Loss: 0.27734 | Train Acc: 0.646 | Val Acc: 0.622 |\n",
      "Epoch 0130: | Train Loss: 0.26264 | Val Loss: 0.27753 | Train Acc: 0.632 | Val Acc: 0.631 |\n",
      "Epoch 0131: | Train Loss: 0.26142 | Val Loss: 0.28730 | Train Acc: 0.644 | Val Acc: 0.646 |\n",
      "Epoch 0132: | Train Loss: 0.26573 | Val Loss: 0.27280 | Train Acc: 0.647 | Val Acc: 0.643 |\n",
      "Epoch 0133: | Train Loss: 0.26119 | Val Loss: 0.28823 | Train Acc: 0.639 | Val Acc: 0.657 |\n",
      "Epoch 0134: | Train Loss: 0.26354 | Val Loss: 0.28045 | Train Acc: 0.639 | Val Acc: 0.617 |\n",
      "Epoch 0135: | Train Loss: 0.26195 | Val Loss: 0.28603 | Train Acc: 0.645 | Val Acc: 0.670 |\n",
      "Saving a new best model\n",
      "Epoch 0136: | Train Loss: 0.26529 | Val Loss: 0.28833 | Train Acc: 0.641 | Val Acc: 0.640 |\n",
      "Epoch 0137: | Train Loss: 0.26320 | Val Loss: 0.28294 | Train Acc: 0.645 | Val Acc: 0.643 |\n",
      "Epoch 0138: | Train Loss: 0.26307 | Val Loss: 0.28314 | Train Acc: 0.640 | Val Acc: 0.630 |\n",
      "Epoch 0139: | Train Loss: 0.26692 | Val Loss: 0.29305 | Train Acc: 0.645 | Val Acc: 0.579 |\n",
      "Epoch 0140: | Train Loss: 0.26569 | Val Loss: 0.27452 | Train Acc: 0.637 | Val Acc: 0.621 |\n",
      "Epoch 0141: | Train Loss: 0.26694 | Val Loss: 0.28932 | Train Acc: 0.637 | Val Acc: 0.654 |\n",
      "Epoch 0142: | Train Loss: 0.26272 | Val Loss: 0.28182 | Train Acc: 0.645 | Val Acc: 0.604 |\n",
      "Epoch 0143: | Train Loss: 0.26157 | Val Loss: 0.27527 | Train Acc: 0.642 | Val Acc: 0.624 |\n",
      "Epoch 0144: | Train Loss: 0.26386 | Val Loss: 0.27690 | Train Acc: 0.640 | Val Acc: 0.647 |\n",
      "Epoch 0145: | Train Loss: 0.26702 | Val Loss: 0.27741 | Train Acc: 0.638 | Val Acc: 0.643 |\n",
      "Epoch 0146: | Train Loss: 0.26538 | Val Loss: 0.28705 | Train Acc: 0.636 | Val Acc: 0.618 |\n",
      "Epoch 0147: | Train Loss: 0.26806 | Val Loss: 0.28048 | Train Acc: 0.631 | Val Acc: 0.610 |\n",
      "Epoch 0148: | Train Loss: 0.26376 | Val Loss: 0.28848 | Train Acc: 0.638 | Val Acc: 0.662 |\n",
      "Epoch 0149: | Train Loss: 0.26437 | Val Loss: 0.27836 | Train Acc: 0.644 | Val Acc: 0.612 |\n",
      "Epoch 0150: | Train Loss: 0.26612 | Val Loss: 0.28047 | Train Acc: 0.641 | Val Acc: 0.624 |\n",
      "Epoch 0151: | Train Loss: 0.26190 | Val Loss: 0.28174 | Train Acc: 0.646 | Val Acc: 0.614 |\n",
      "Epoch 0152: | Train Loss: 0.26118 | Val Loss: 0.28431 | Train Acc: 0.645 | Val Acc: 0.624 |\n",
      "Epoch 0153: | Train Loss: 0.26261 | Val Loss: 0.28807 | Train Acc: 0.647 | Val Acc: 0.651 |\n",
      "Epoch 0154: | Train Loss: 0.26414 | Val Loss: 0.26945 | Train Acc: 0.642 | Val Acc: 0.649 |\n",
      "Epoch 0155: | Train Loss: 0.26405 | Val Loss: 0.26883 | Train Acc: 0.643 | Val Acc: 0.654 |\n",
      "Epoch 0156: | Train Loss: 0.26217 | Val Loss: 0.28308 | Train Acc: 0.647 | Val Acc: 0.603 |\n",
      "Epoch 0157: | Train Loss: 0.26343 | Val Loss: 0.28414 | Train Acc: 0.642 | Val Acc: 0.656 |\n",
      "Epoch 0158: | Train Loss: 0.26420 | Val Loss: 0.27836 | Train Acc: 0.642 | Val Acc: 0.634 |\n",
      "Epoch 0159: | Train Loss: 0.26330 | Val Loss: 0.27627 | Train Acc: 0.645 | Val Acc: 0.664 |\n",
      "Epoch 0160: | Train Loss: 0.26330 | Val Loss: 0.27186 | Train Acc: 0.646 | Val Acc: 0.601 |\n",
      "Epoch 0161: | Train Loss: 0.26206 | Val Loss: 0.27726 | Train Acc: 0.644 | Val Acc: 0.616 |\n",
      "Epoch 0162: | Train Loss: 0.26330 | Val Loss: 0.28841 | Train Acc: 0.644 | Val Acc: 0.615 |\n",
      "Epoch 0163: | Train Loss: 0.26391 | Val Loss: 0.27649 | Train Acc: 0.643 | Val Acc: 0.627 |\n",
      "Epoch 0164: | Train Loss: 0.26334 | Val Loss: 0.27423 | Train Acc: 0.645 | Val Acc: 0.633 |\n",
      "Epoch 0165: | Train Loss: 0.26329 | Val Loss: 0.28432 | Train Acc: 0.638 | Val Acc: 0.641 |\n",
      "Epoch 0166: | Train Loss: 0.26253 | Val Loss: 0.28128 | Train Acc: 0.649 | Val Acc: 0.629 |\n",
      "Epoch 0167: | Train Loss: 0.26200 | Val Loss: 0.28330 | Train Acc: 0.639 | Val Acc: 0.660 |\n",
      "Epoch 0168: | Train Loss: 0.26551 | Val Loss: 0.27331 | Train Acc: 0.638 | Val Acc: 0.608 |\n",
      "Epoch 0169: | Train Loss: 0.26444 | Val Loss: 0.27238 | Train Acc: 0.637 | Val Acc: 0.631 |\n",
      "Epoch 0170: | Train Loss: 0.26397 | Val Loss: 0.27422 | Train Acc: 0.654 | Val Acc: 0.615 |\n",
      "Epoch 0171: | Train Loss: 0.26226 | Val Loss: 0.28403 | Train Acc: 0.645 | Val Acc: 0.597 |\n",
      "Epoch 0172: | Train Loss: 0.26128 | Val Loss: 0.28742 | Train Acc: 0.639 | Val Acc: 0.661 |\n",
      "Epoch 0173: | Train Loss: 0.27221 | Val Loss: 0.29015 | Train Acc: 0.634 | Val Acc: 0.652 |\n",
      "Epoch 0174: | Train Loss: 0.26191 | Val Loss: 0.27588 | Train Acc: 0.642 | Val Acc: 0.649 |\n",
      "Epoch 0175: | Train Loss: 0.26259 | Val Loss: 0.28352 | Train Acc: 0.650 | Val Acc: 0.617 |\n",
      "Epoch 0176: | Train Loss: 0.26433 | Val Loss: 0.27994 | Train Acc: 0.641 | Val Acc: 0.625 |\n",
      "Epoch 0177: | Train Loss: 0.25823 | Val Loss: 0.29227 | Train Acc: 0.646 | Val Acc: 0.636 |\n",
      "Epoch 0178: | Train Loss: 0.26053 | Val Loss: 0.27367 | Train Acc: 0.650 | Val Acc: 0.647 |\n",
      "Epoch 0179: | Train Loss: 0.26042 | Val Loss: 0.27328 | Train Acc: 0.648 | Val Acc: 0.623 |\n",
      "Epoch 0180: | Train Loss: 0.26502 | Val Loss: 0.27056 | Train Acc: 0.635 | Val Acc: 0.610 |\n",
      "Epoch 0181: | Train Loss: 0.26154 | Val Loss: 0.27411 | Train Acc: 0.640 | Val Acc: 0.646 |\n",
      "Epoch 0182: | Train Loss: 0.26141 | Val Loss: 0.27430 | Train Acc: 0.647 | Val Acc: 0.645 |\n",
      "Epoch 0183: | Train Loss: 0.26321 | Val Loss: 0.28503 | Train Acc: 0.644 | Val Acc: 0.633 |\n",
      "Epoch 0184: | Train Loss: 0.26546 | Val Loss: 0.27786 | Train Acc: 0.645 | Val Acc: 0.634 |\n",
      "Epoch 0185: | Train Loss: 0.26372 | Val Loss: 0.27953 | Train Acc: 0.647 | Val Acc: 0.638 |\n",
      "Epoch 0186: | Train Loss: 0.26296 | Val Loss: 0.27272 | Train Acc: 0.639 | Val Acc: 0.639 |\n",
      "Epoch 0187: | Train Loss: 0.26229 | Val Loss: 0.28983 | Train Acc: 0.639 | Val Acc: 0.612 |\n",
      "Epoch 0188: | Train Loss: 0.26255 | Val Loss: 0.28326 | Train Acc: 0.644 | Val Acc: 0.647 |\n",
      "Epoch 0189: | Train Loss: 0.26211 | Val Loss: 0.27715 | Train Acc: 0.637 | Val Acc: 0.658 |\n",
      "Epoch 0190: | Train Loss: 0.26491 | Val Loss: 0.28626 | Train Acc: 0.643 | Val Acc: 0.590 |\n",
      "Epoch 0191: | Train Loss: 0.26513 | Val Loss: 0.29476 | Train Acc: 0.635 | Val Acc: 0.651 |\n",
      "Epoch 0192: | Train Loss: 0.26118 | Val Loss: 0.28424 | Train Acc: 0.651 | Val Acc: 0.631 |\n",
      "Epoch 0193: | Train Loss: 0.26488 | Val Loss: 0.27315 | Train Acc: 0.639 | Val Acc: 0.650 |\n",
      "Epoch 0194: | Train Loss: 0.26397 | Val Loss: 0.28423 | Train Acc: 0.639 | Val Acc: 0.660 |\n",
      "Epoch 0195: | Train Loss: 0.26198 | Val Loss: 0.27985 | Train Acc: 0.647 | Val Acc: 0.654 |\n",
      "Epoch 0196: | Train Loss: 0.26266 | Val Loss: 0.27065 | Train Acc: 0.643 | Val Acc: 0.647 |\n",
      "Epoch 0197: | Train Loss: 0.26112 | Val Loss: 0.28499 | Train Acc: 0.647 | Val Acc: 0.597 |\n",
      "Epoch 0198: | Train Loss: 0.25937 | Val Loss: 0.27877 | Train Acc: 0.652 | Val Acc: 0.606 |\n",
      "Epoch 0199: | Train Loss: 0.26195 | Val Loss: 0.29106 | Train Acc: 0.649 | Val Acc: 0.594 |\n",
      "Epoch 0200: | Train Loss: 0.26105 | Val Loss: 0.27978 | Train Acc: 0.643 | Val Acc: 0.633 |\n"
     ]
    }
   ]
  },
  {
   "cell_type": "code",
   "source": [
    "import matplotlib.pyplot as plt\n",
    "plt.style.use('seaborn-darkgrid')\n",
    "fig, axs = plt.subplots(ncols=2, figsize=(16, 6))\n",
    "axs[0].plot(Logger.loss['train'], label='Train loss')\n",
    "axs[0].plot(Logger.loss['val'], label='Val loss')\n",
    "axs[0].legend()\n",
    "axs[1].plot(Logger.accuracy['train'], label='Train accuracy')\n",
    "axs[1].plot(Logger.accuracy['val'], label='Val accuracy')\n",
    "axs[1].legend()\n",
    "plt.show()"
   ],
   "metadata": {
    "colab": {
     "base_uri": "https://localhost:8080/",
     "height": 371
    },
    "id": "mOCssPDB01uP",
    "outputId": "4f20960d-b769-4dfb-fc51-b6addbf08838"
   },
   "execution_count": 27,
   "outputs": [
    {
     "output_type": "display_data",
     "data": {
      "image/png": "[encoded data removed]",
      "text/plain": [
       "<Figure size 1152x432 with 2 Axes>"
      ]
     },
     "metadata": {}
    }
   ]
  },
  {
   "cell_type": "code",
   "source": [
    "print('Saving best model to file... \\n')\n",
    "model = best_model\n",
    "torch.save(model.state_dict(), os.path.join(save_path, 'best_model.pth'))"
   ],
   "metadata": {
    "colab": {
     "base_uri": "https://localhost:8080/"
    },
    "id": "G7CrOMrM4X3f",
    "outputId": "eb120c1b-9617-463e-c750-1007c6efa0e6"
   },
   "execution_count": 28,
   "outputs": [
    {
     "output_type": "stream",
     "name": "stdout",
     "text": [
      "Saving best model to file... \n",
      "\n"
     ]
    }
   ]
  },
  {
   "cell_type": "code",
   "source": [
    "print('Saving my simulation parameters...\\n')\n",
    "import json\n",
    "with open(os.path.join(save_path, 'params.json'), 'w') as fp:\n",
    "    json.dump(params_dict, fp)"
   ],
   "metadata": {
    "colab": {
     "base_uri": "https://localhost:8080/"
    },
    "id": "dlsInygyApyK",
    "outputId": "164eb587-8489-447a-8c4c-4278c4ae5edf"
   },
   "execution_count": 29,
   "outputs": [
    {
     "output_type": "stream",
     "name": "stdout",
     "text": [
      "Saving my simulation parameters...\n",
      "\n"
     ]
    }
   ]
  },
  {
   "cell_type": "code",
   "source": [
    "model.eval()"
   ],
   "metadata": {
    "colab": {
     "base_uri": "https://localhost:8080/"
    },
    "id": "PGTHYQo65VU7",
    "outputId": "977dba11-602c-472a-eda2-19c82297b6ce"
   },
   "execution_count": 30,
   "outputs": [
    {
     "output_type": "execute_result",
     "data": {
      "text/plain": [
       "RegNet1D(\n",
       "  (fc1): Linear(in_features=6, out_features=256, bias=True)\n",
       "  (fc2): Linear(in_features=256, out_features=256, bias=True)\n",
       "  (layer_out): Linear(in_features=256, out_features=1, bias=True)\n",
       "  (act): ReLU()\n",
       "  (dropout): Dropout(p=0.2, inplace=False)\n",
       "  (bn1): BatchNorm1d(256, eps=1e-05, momentum=0.1, affine=True, track_running_stats=True)\n",
       "  (bn2): BatchNorm1d(256, eps=1e-05, momentum=0.1, affine=True, track_running_stats=True)\n",
       ")"
      ]
     },
     "metadata": {},
     "execution_count": 30
    }
   ]
  },
  {
   "cell_type": "code",
   "source": [
    "print('Making predictions...')\n",
    "train_preds = model(torch.Tensor(X_train).to(device)).cpu().detach().numpy()\n",
    "val_preds = model(torch.Tensor(X_val).to(device)).cpu().detach().numpy()\n",
    "test_preds = model(torch.Tensor(X_test).to(device)).cpu().detach().numpy()"
   ],
   "metadata": {
    "colab": {
     "base_uri": "https://localhost:8080/"
    },
    "id": "7RTXm0Zq2Y44",
    "outputId": "b30f87f4-55c6-46aa-edc8-18132d1d2f20"
   },
   "execution_count": 31,
   "outputs": [
    {
     "output_type": "stream",
     "name": "stdout",
     "text": [
      "Making predictions...\n"
     ]
    }
   ]
  },
  {
   "cell_type": "code",
   "source": [
    "from sklearn.metrics import mean_absolute_error, mean_squared_error\n",
    "\n",
    "def results_log(_t, _p, set:str = ''):\n",
    "  print(f'Dataset: {set} - mae: {mean_absolute_error(_t, _p)} - mse: {mean_squared_error(_t, _p)} - r2: {r2_score(_t, _p)}\\n')"
   ],
   "metadata": {
    "id": "iXj0SYFd2q38"
   },
   "execution_count": 32,
   "outputs": []
  },
  {
   "cell_type": "code",
   "source": [
    "results_log(train_preds, y_train, 'train')\n",
    "results_log(val_preds, y_val, 'val')\n",
    "results_log(test_preds, y_test, 'test')"
   ],
   "metadata": {
    "colab": {
     "base_uri": "https://localhost:8080/"
    },
    "id": "RqsWNZwZ3iQG",
    "outputId": "cd3f4500-e531-47bb-f009-222ed51d5f13"
   },
   "execution_count": 33,
   "outputs": [
    {
     "output_type": "stream",
     "name": "stdout",
     "text": [
      "Dataset: train - mae: 0.2767840027809143 - mse: 0.26786383986473083 - r2: 0.6847108061204681\n",
      "\n",
      "Dataset: val - mae: 0.27943798899650574 - mse: 0.28814539313316345 - r2: 0.6679943871818093\n",
      "\n",
      "Dataset: test - mae: 0.2955712676048279 - mse: 0.2996906638145447 - r2: 0.6505611434383591\n",
      "\n"
     ]
    }
   ]
  },
  {
   "cell_type": "code",
   "source": [
    "print('Reloading parameters if needed...')\n",
    "with open(os.path.join(save_path, 'params.json')) as f:\n",
    "  params = json.load(f)\n",
    "params"
   ],
   "metadata": {
    "colab": {
     "base_uri": "https://localhost:8080/"
    },
    "id": "aDFf1eNTBc9m",
    "outputId": "58f3f71b-90ad-4dca-d055-45dd972e52e0"
   },
   "execution_count": 34,
   "outputs": [
    {
     "output_type": "stream",
     "name": "stdout",
     "text": [
      "Reloading parameters if needed...\n"
     ]
    },
    {
     "output_type": "execute_result",
     "data": {
      "text/plain": [
       "{'batch_size': 256,\n",
       " 'beta_threshold': 2000,\n",
       " 'dataset_path': 'dataSet1.xlsx',\n",
       " 'drop_columns': ['x', 'y', 'z', 'eta_4'],\n",
       " 'dropout_rate': 0.2,\n",
       " 'epochs': 200,\n",
       " 'learning_rate': 0.0001,\n",
       " 'loss': 'mse',\n",
       " 'n_outputs': 1,\n",
       " 'neurons': [256, 256],\n",
       " 'optimizer_type': 'adam',\n",
       " 'save_path': '/content/results_1/',\n",
       " 'scaler': 'standard',\n",
       " 'shuffle_data': True}"
      ]
     },
     "metadata": {},
     "execution_count": 34
    }
   ]
  },
  {
   "cell_type": "code",
   "source": [
    "print('reloading a torch model for inference...\\n')\n",
    "reloaded_model = RegNet1D(\n",
    "                          num_feature=train.shape[1] - n_outputs,\n",
    "                          num_class=1,\n",
    "                          neurons=neurons,\n",
    "                          dropout_rate=dropout_rate\n",
    "                          ).to(device)\n",
    "\n",
    "reloaded_model.load_state_dict(torch.load(os.path.join(save_path, 'best_model.pth')))\n",
    "reloaded_model.eval()\n",
    "reloaded_model"
   ],
   "metadata": {
    "colab": {
     "base_uri": "https://localhost:8080/"
    },
    "id": "mbsWfecC5wyD",
    "outputId": "a4847983-7b0b-4ec2-ec78-46a0b4bd0f15"
   },
   "execution_count": 35,
   "outputs": [
    {
     "output_type": "stream",
     "name": "stdout",
     "text": [
      "reloading a torch model for inference...\n",
      "\n"
     ]
    },
    {
     "output_type": "execute_result",
     "data": {
      "text/plain": [
       "RegNet1D(\n",
       "  (fc1): Linear(in_features=6, out_features=256, bias=True)\n",
       "  (fc2): Linear(in_features=256, out_features=256, bias=True)\n",
       "  (layer_out): Linear(in_features=256, out_features=1, bias=True)\n",
       "  (act): ReLU()\n",
       "  (dropout): Dropout(p=0.2, inplace=False)\n",
       "  (bn1): BatchNorm1d(256, eps=1e-05, momentum=0.1, affine=True, track_running_stats=True)\n",
       "  (bn2): BatchNorm1d(256, eps=1e-05, momentum=0.1, affine=True, track_running_stats=True)\n",
       ")"
      ]
     },
     "metadata": {},
     "execution_count": 35
    }
   ]
  },
  {
   "cell_type": "code",
   "source": [
    "# %%shell\n",
    "# jupyter nbconvert --to html torch_regression_workflow.ipynb"
   ],
   "metadata": {
    "id": "mskMRHyF-NFg"
   },
   "execution_count": 36,
   "outputs": []
  },
  {
   "cell_type": "code",
   "source": [
    ""
   ],
   "metadata": {
    "id": "2-lyIZTVCGbm"
   },
   "execution_count": 36,
   "outputs": []
  }
 ]
}