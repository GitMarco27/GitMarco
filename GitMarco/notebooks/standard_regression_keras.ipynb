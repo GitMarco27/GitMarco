{
 "cells": [
  {
   "cell_type": "markdown",
   "metadata": {
    "id": "zHZRulFLg3RQ"
   },
   "source": [
    "#### Importing dependencies\n",
    "---"
   ]
  },
  {
   "cell_type": "code",
   "execution_count": null,
   "metadata": {
    "id": "DsGHwcezg3RQ",
    "pycharm": {
     "name": "#%%\n"
    }
   },
   "outputs": [],
   "source": [
    "import pandas as pd\n",
    "import numpy as np\n",
    "import os\n",
    "\n",
    "os.environ['TF_CPP_MIN_LOG_LEVEL'] = '3'\n",
    "import tensorflow as tf\n",
    "from sklearn.preprocessing import MinMaxScaler, StandardScaler\n",
    "from sklearn.metrics import accuracy_score\n",
    "from sklearn.model_selection import train_test_split\n",
    "from sklearn.model_selection import KFold"
   ]
  },
  {
   "cell_type": "code",
   "execution_count": null,
   "metadata": {},
   "outputs": [],
   "source": [
    "os.chdir(os.getcwd().replace('Notebooks', ''))\n",
    "os.getcwd()"
   ]
  },
  {
   "cell_type": "code",
   "execution_count": null,
   "metadata": {},
   "outputs": [],
   "source": [
    "from GitMarco.tf.utils import limit_memory\n",
    "limit_memory(2000)"
   ]
  },
  {
   "cell_type": "markdown",
   "metadata": {
    "id": "k7pk2MjRg3RR"
   },
   "source": [
    "#### Loading data (csv format)\n",
    "---"
   ]
  },
  {
   "cell_type": "code",
   "execution_count": null,
   "metadata": {
    "id": "trnAsZedg3RR",
    "pycharm": {
     "name": "#%%\n"
    }
   },
   "outputs": [],
   "source": [
    "# Reading the train and test data\n",
    "import os\n",
    "df = pd.read_excel('tabular/df.xlsx')"
   ]
  },
  {
   "cell_type": "markdown",
   "metadata": {
    "id": "B5PVbJ1dg3RS"
   },
   "source": [
    "#### Check data type\n",
    "---"
   ]
  },
  {
   "cell_type": "code",
   "execution_count": null,
   "metadata": {
    "colab": {
     "base_uri": "https://localhost:8080/"
    },
    "id": "ozun0gXpg3RS",
    "outputId": "3ac86e1d-db46-4a3e-d139-246bfa2759b1",
    "pycharm": {
     "name": "#%%\n"
    }
   },
   "outputs": [],
   "source": [
    "df.info()"
   ]
  },
  {
   "cell_type": "markdown",
   "metadata": {
    "id": "N9ihvqZdg3RT"
   },
   "source": [
    "#### Drop desired columns from the dataset\n",
    "---"
   ]
  },
  {
   "cell_type": "code",
   "execution_count": null,
   "metadata": {
    "id": "_TFrLZ9Ag3RT",
    "pycharm": {
     "name": "#%%\n"
    }
   },
   "outputs": [],
   "source": [
    "rem_cols = None"
   ]
  },
  {
   "cell_type": "code",
   "execution_count": null,
   "metadata": {
    "id": "fw6tOtsvg3RU",
    "pycharm": {
     "name": "#%%\n"
    }
   },
   "outputs": [],
   "source": [
    "if rem_cols is not None:\n",
    "  df.drop(rem_cols, axis=1, inplace=True)\n",
    "  df.head()"
   ]
  },
  {
   "cell_type": "markdown",
   "metadata": {
    "id": "QLSTw5tug3RU"
   },
   "source": [
    "#### Cleaning\n",
    "---"
   ]
  },
  {
   "cell_type": "code",
   "execution_count": null,
   "metadata": {
    "colab": {
     "base_uri": "https://localhost:8080/"
    },
    "id": "DeoLSEB0g3RU",
    "outputId": "6d3069d7-2984-4fb3-e9bb-24190038f4bb",
    "pycharm": {
     "name": "#%%\n"
    }
   },
   "outputs": [],
   "source": [
    "print(df.shape)\n",
    "# df = df[df.CNT_CHILDREN != 12]\n",
    "print(df.shape)"
   ]
  },
  {
   "cell_type": "markdown",
   "metadata": {
    "id": "NR9WEIceg3RV"
   },
   "source": [
    "#### Removing NaN values\n",
    "---\n"
   ]
  },
  {
   "cell_type": "code",
   "execution_count": null,
   "metadata": {
    "colab": {
     "base_uri": "https://localhost:8080/"
    },
    "id": "6evkhF2yg3RV",
    "outputId": "55e437bf-0db9-42fe-a6f5-fd7f0a6722b6",
    "pycharm": {
     "name": "#%%\n"
    }
   },
   "outputs": [],
   "source": [
    "print('Before', df.shape)\n",
    "df.dropna(axis=0, how='any', thresh=None, subset=None, inplace=True)\n",
    "print('After', df.shape)"
   ]
  },
  {
   "cell_type": "markdown",
   "metadata": {
    "id": "C2R_HrK3g3RV"
   },
   "source": [
    "#### Fixing data\n",
    "---"
   ]
  },
  {
   "cell_type": "code",
   "execution_count": null,
   "metadata": {
    "id": "5fFrvHBUg3RV",
    "pycharm": {
     "name": "#%%\n"
    }
   },
   "outputs": [],
   "source": [
    "# df.DAYS_EMPLOYED[df.DAYS_EMPLOYED == 365243] = 1\n",
    "# df.head()"
   ]
  },
  {
   "cell_type": "markdown",
   "metadata": {
    "id": "-JMdag5Wg3RW"
   },
   "source": [
    "#### Performing Factorization\n",
    "---\n",
    "We transform the desired columns into factorized classes"
   ]
  },
  {
   "cell_type": "code",
   "execution_count": null,
   "metadata": {
    "id": "lBiW8ubLg3RW",
    "pycharm": {
     "name": "#%%\n"
    }
   },
   "outputs": [],
   "source": [
    "cols = None\n",
    "if cols is not None:\n",
    "  df[cols] = df[cols].apply(lambda x: pd.factorize(x)[0])\n",
    "  df.head()"
   ]
  },
  {
   "cell_type": "markdown",
   "metadata": {
    "id": "Mayvi5vGg3RW"
   },
   "source": [
    "#### Checking again data dtype\n",
    "---"
   ]
  },
  {
   "cell_type": "code",
   "execution_count": null,
   "metadata": {
    "colab": {
     "base_uri": "https://localhost:8080/"
    },
    "id": "ZER68AIeg3RX",
    "outputId": "8d702474-7a16-4203-c6d8-cb4675799e17",
    "pycharm": {
     "name": "#%%\n"
    }
   },
   "outputs": [],
   "source": [
    "df.info()"
   ]
  },
  {
   "cell_type": "markdown",
   "metadata": {
    "id": "3gCNDarFg3RX"
   },
   "source": [
    "#### Checking stats\n",
    "---"
   ]
  },
  {
   "cell_type": "code",
   "execution_count": null,
   "metadata": {
    "colab": {
     "base_uri": "https://localhost:8080/",
     "height": 424
    },
    "id": "CnuMzo37g3RX",
    "outputId": "ee9e2fb2-87c6-4493-f653-5b6ec84a05bd",
    "pycharm": {
     "name": "#%%\n"
    }
   },
   "outputs": [],
   "source": [
    "df.describe().T"
   ]
  },
  {
   "cell_type": "markdown",
   "metadata": {
    "id": "5YvvBACYg3RX"
   },
   "source": [
    "#### Ditribution\n",
    "---"
   ]
  },
  {
   "cell_type": "code",
   "execution_count": null,
   "metadata": {
    "colab": {
     "base_uri": "https://localhost:8080/",
     "height": 281
    },
    "id": "7suVLbWhg3RX",
    "outputId": "71845f2a-1f7a-4207-86d3-386738583d43",
    "pycharm": {
     "name": "#%%\n"
    }
   },
   "outputs": [],
   "source": [
    "df.hist(df.columns[-4])\n",
    "pass"
   ]
  },
  {
   "cell_type": "markdown",
   "metadata": {
    "id": "_gz9uvysg3RX"
   },
   "source": [
    "#### Preparing data for training, validation and test\n",
    "---"
   ]
  },
  {
   "cell_type": "code",
   "execution_count": null,
   "metadata": {
    "colab": {
     "base_uri": "https://localhost:8080/",
     "height": 317
    },
    "id": "8TZvHf4Bg3RX",
    "outputId": "acba2508-1e85-4c87-9bb2-6fb2608c5e9f",
    "pycharm": {
     "name": "#%%\n"
    }
   },
   "outputs": [],
   "source": [
    "input_data = df.copy()\n",
    "input_data.head()"
   ]
  },
  {
   "cell_type": "markdown",
   "metadata": {
    "id": "S1cpM8bSg3RX"
   },
   "source": [
    "#### Normalizing data\n",
    "---"
   ]
  },
  {
   "cell_type": "code",
   "execution_count": null,
   "metadata": {
    "colab": {
     "base_uri": "https://localhost:8080/",
     "height": 424
    },
    "id": "WCe9UkoOg3RX",
    "outputId": "c655f358-83ad-41e4-e566-766da36442f4",
    "pycharm": {
     "name": "#%%\n"
    }
   },
   "outputs": [],
   "source": [
    "scaler = StandardScaler()\n",
    "scaler.fit(input_data)\n",
    "normed_data = pd.DataFrame(scaler.transform(input_data), columns=input_data.columns)\n",
    "normed_data.describe().T"
   ]
  },
  {
   "cell_type": "markdown",
   "metadata": {
    "id": "QjayZ6USg3RY"
   },
   "source": [
    "#### Splitting data into training, validation and testing\n",
    "---"
   ]
  },
  {
   "cell_type": "code",
   "execution_count": null,
   "metadata": {
    "id": "JVRwa8gxg3RY",
    "pycharm": {
     "name": "#%%\n"
    }
   },
   "outputs": [],
   "source": [
    "n_labels = 1\n",
    "\n",
    "labels = normed_data.drop(columns=df.columns[:-n_labels])\n",
    "normed_data = normed_data.drop(columns=df.columns[-n_labels:])\n",
    "\n",
    "train_data, test_data, train_labels, test_labels = train_test_split(\n",
    "    normed_data, labels, test_size=0.2, shuffle=True)"
   ]
  },
  {
   "cell_type": "markdown",
   "metadata": {
    "id": "U8IFX7Dhg3RZ"
   },
   "source": [
    "#### Creating a parametric sequential model\n",
    "---"
   ]
  },
  {
   "cell_type": "code",
   "execution_count": null,
   "metadata": {
    "id": "vxxiJuAmg3RZ",
    "pycharm": {
     "name": "#%%\n"
    }
   },
   "outputs": [],
   "source": [
    "from GitMarco.tf.metrics import r_squared\n",
    "from GitMarco.graphics.matplotlib import validation_plot\n",
    "\n",
    "def create_model(dropout_rate: float = 0.0,\n",
    "                 neurons: int = 32,\n",
    "                 activation: str = 'relu',\n",
    "                 n_layers: int = 2,\n",
    "                 learning_rate: float = 0.001,\n",
    "                 optimizer = tf.keras.optimizers.Adam,\n",
    "                 nesterov: bool = True,\n",
    "                 momentum: float = .9,\n",
    "                 ) -> tf.keras.Model:\n",
    "\n",
    "    model = tf.keras.models.Sequential()\n",
    "    model.add(tf.keras.layers.Dense(neurons,\n",
    "                                    activation=activation,\n",
    "                                    input_shape=(normed_data.shape[1], )))\n",
    "    model.add(tf.keras.layers.Dropout(dropout_rate))\n",
    "\n",
    "    for i in range(1, n_layers):\n",
    "        model.add(tf.keras.layers.Dense(neurons, activation=activation))\n",
    "        model.add(tf.keras.layers.Dropout(dropout_rate))\n",
    "    model.add(tf.keras.layers.Dense(train_labels.shape[1]))\n",
    "\n",
    "    if isinstance(optimizer, tf.keras.optimizers.SGD):\n",
    "        model.compile(optimizer=optimizer(learning_rate=learning_rate, nesterov=nesterov, momentum=momentum),\n",
    "                      loss=tf.keras.losses.mean_squared_error,\n",
    "                      # metrics=[r_squared]\n",
    "                     )\n",
    "    else:\n",
    "        model.compile(optimizer=optimizer(learning_rate=learning_rate),\n",
    "                      loss=tf.keras.losses.mean_squared_error,\n",
    "                      # metrics=[r_squared]\n",
    "                     )\n",
    "    model.summary()\n",
    "    return model"
   ]
  },
  {
   "cell_type": "markdown",
   "metadata": {
    "id": "ulRLM-mBg3RZ"
   },
   "source": [
    "#### Wrap keras model with sklearn\n",
    "---"
   ]
  },
  {
   "cell_type": "code",
   "execution_count": null,
   "metadata": {
    "colab": {
     "base_uri": "https://localhost:8080/"
    },
    "id": "NSNVYxmFg3RZ",
    "outputId": "af563806-d836-4cf3-9c8a-8cf9197fea8f",
    "pycharm": {
     "name": "#%%\n"
    }
   },
   "outputs": [],
   "source": [
    "from keras.wrappers.scikit_learn import KerasRegressor\n",
    "model = KerasRegressor(build_fn=create_model, verbose=0)"
   ]
  },
  {
   "cell_type": "markdown",
   "metadata": {
    "id": "SVbEC0ENg3RZ"
   },
   "source": [
    "#### Performing cross-validation and hyper-parameters optimization\n",
    "---"
   ]
  },
  {
   "cell_type": "code",
   "execution_count": null,
   "metadata": {
    "id": "Fgaf_Wpfg3RZ",
    "pycharm": {
     "name": "#%%\n"
    }
   },
   "outputs": [],
   "source": [
    "# We specify here the parameters of the grid search, in the form of lists\n",
    "learning_rate = [0.01,]\n",
    "dropout_rate = [0.2]\n",
    "batch_size = [100]\n",
    "epochs = [2000, ]\n",
    "neurons = [256,]\n",
    "activation = ['relu',]\n",
    "n_layers = [2,]\n",
    "nesterov = [True,]\n",
    "momentum = [.9, ]\n",
    "optimizer = [\n",
    "             tf.keras.optimizers.Adam,\n",
    "             # tf.keras.optimizers.SGD,\n",
    "             # tf.keras.optimizers.RMSprop,\n",
    "             ]\n",
    "\n",
    "# Make a dictionary of the grid search parameters\n",
    "param_grid = dict(learning_rate=learning_rate,\n",
    "                  dropout_rate=dropout_rate,\n",
    "                  batch_size=batch_size,\n",
    "                  epochs=epochs,\n",
    "                  neurons=neurons,\n",
    "                  activation=activation,\n",
    "                  n_layers=n_layers,\n",
    "                  optimizer=optimizer,\n",
    "                  nesterov=nesterov,\n",
    "                  momentum=momentum)"
   ]
  },
  {
   "cell_type": "code",
   "execution_count": null,
   "metadata": {
    "colab": {
     "base_uri": "https://localhost:8080/"
    },
    "id": "3TK5PWVXg3RZ",
    "outputId": "e57612aa-66f9-4ec1-93f7-ce9ee8000fba",
    "pycharm": {
     "name": "#%%\n"
    },
    "tags": []
   },
   "outputs": [],
   "source": [
    "from sklearn.model_selection import GridSearchCV\n",
    "from sklearn.metrics import r2_score\n",
    "\n",
    "seed = 22  # Set random state\n",
    "jobs = 1  # Set the number of parallel processes (-1 => all available cores)\n",
    "n_folds = 5  # Number of cross-validation folds\n",
    "\n",
    "# Build and fit the GridSearchCV\n",
    "grid = GridSearchCV(estimator=model,\n",
    "                    param_grid=param_grid,\n",
    "                    cv=KFold(random_state=seed,\n",
    "                             n_splits=n_folds,\n",
    "                             shuffle=True\n",
    "                             ),\n",
    "                    scoring='neg_mean_squared_error',\n",
    "                    error_score='raise',\n",
    "                    verbose=0,\n",
    "                    n_jobs=jobs)\n",
    "\n",
    "grid_results = grid.fit(train_data, train_labels, verbose=0)"
   ]
  },
  {
   "cell_type": "markdown",
   "metadata": {
    "id": "SEzWq_5Gg3RZ"
   },
   "source": [
    "#### Explore Results\n",
    "---"
   ]
  },
  {
   "cell_type": "code",
   "execution_count": null,
   "metadata": {
    "colab": {
     "base_uri": "https://localhost:8080/"
    },
    "id": "-UwHHO6yg3RZ",
    "outputId": "090ef7a2-e18d-4bd5-b680-c6043c917140",
    "pycharm": {
     "name": "#%%\n"
    }
   },
   "outputs": [],
   "source": [
    "# Summarize the results in a readable format\n",
    "print(\"Best: {0}, using {1} \\n\".format(grid_results.best_score_, grid_results.best_params_))"
   ]
  },
  {
   "cell_type": "code",
   "execution_count": null,
   "metadata": {
    "colab": {
     "base_uri": "https://localhost:8080/"
    },
    "id": "VZ81bfOzg3RZ",
    "outputId": "ea7e4509-0214-4ced-beb4-3e98118a1ef5",
    "pycharm": {
     "name": "#%%\n"
    }
   },
   "outputs": [],
   "source": [
    "means = grid_results.cv_results_['mean_test_score']\n",
    "stds = grid_results.cv_results_['std_test_score']\n",
    "params = grid_results.cv_results_['params']\n",
    "\n",
    "for mean, stdev, param in zip(means, stds, params):\n",
    "    print('{0} ({1}) with: {2}\\n'.format(mean, stdev, param))"
   ]
  },
  {
   "cell_type": "code",
   "execution_count": null,
   "metadata": {
    "colab": {
     "base_uri": "https://localhost:8080/"
    },
    "id": "Jry2qBKsg3RZ",
    "outputId": "87b9d88a-bcf2-4723-e4a9-4c3fa636aa36",
    "pycharm": {
     "name": "#%%\n"
    }
   },
   "outputs": [],
   "source": [
    "vars(grid_results).keys()"
   ]
  },
  {
   "cell_type": "markdown",
   "metadata": {
    "id": "90I_Of5cg3RZ"
   },
   "source": [
    "It is possible to post-process the results of the analysis in various ways in order to create detailed reports describing the performance of the classifier as its hyperparameters change @TODO"
   ]
  },
  {
   "cell_type": "markdown",
   "metadata": {
    "id": "G278Wfo8g3RZ"
   },
   "source": [
    "#### Extracting the best model\n",
    "---"
   ]
  },
  {
   "cell_type": "code",
   "execution_count": null,
   "metadata": {
    "colab": {
     "base_uri": "https://localhost:8080/"
    },
    "id": "OvGDO_Jtg3Ra",
    "outputId": "3974dded-65ab-4d91-85ac-b080a8ccc661",
    "pycharm": {
     "name": "#%%\n"
    }
   },
   "outputs": [],
   "source": [
    "vars(grid_results.best_estimator_).keys()"
   ]
  },
  {
   "cell_type": "code",
   "execution_count": null,
   "metadata": {
    "id": "R6TEq4irg3Ra",
    "pycharm": {
     "name": "#%%\n"
    }
   },
   "outputs": [],
   "source": [
    "final_model = grid_results.best_estimator_.model"
   ]
  },
  {
   "cell_type": "markdown",
   "metadata": {
    "id": "9RaxzM8-g3Ra"
   },
   "source": [
    "#### Evaluating the best model on the test set\n",
    "---"
   ]
  },
  {
   "cell_type": "code",
   "execution_count": null,
   "metadata": {
    "colab": {
     "base_uri": "https://localhost:8080/"
    },
    "id": "Ldt39A45g3Ra",
    "outputId": "5f0bb981-d71a-408f-9c32-45dbd9ebc05b",
    "pycharm": {
     "name": "#%%\n"
    }
   },
   "outputs": [],
   "source": [
    "train_scores = final_model.evaluate(train_data, train_labels)\n",
    "print('Train loss: {0}'.format(train_scores))"
   ]
  },
  {
   "cell_type": "code",
   "execution_count": null,
   "metadata": {
    "colab": {
     "base_uri": "https://localhost:8080/"
    },
    "id": "odlie9xM05ih",
    "outputId": "d01a89d8-69e7-4881-f9c1-1f5bdab2efab"
   },
   "outputs": [],
   "source": [
    "scores = []\n",
    "for i in range(train_labels.shape[1]):\n",
    "  R2_ = r2_score(train_labels.to_numpy()[:, i], final_model.predict(train_data)[:, i])\n",
    "  print(R2_)\n",
    "  scores.append(R2_)\n",
    "print('\\n')\n",
    "np.mean(scores)"
   ]
  },
  {
   "cell_type": "code",
   "execution_count": null,
   "metadata": {
    "colab": {
     "base_uri": "https://localhost:8080/"
    },
    "id": "fhJdYUAtg3Ra",
    "outputId": "3ca15a41-65ad-4d9f-a5e8-b09611df0b5c",
    "pycharm": {
     "name": "#%%\n"
    }
   },
   "outputs": [],
   "source": [
    "test_scores = final_model.evaluate(test_data, test_labels)\n",
    "print('Test loss: {0}'.format(test_scores))"
   ]
  },
  {
   "cell_type": "code",
   "execution_count": null,
   "metadata": {
    "colab": {
     "base_uri": "https://localhost:8080/"
    },
    "id": "NFGIHcf81Eu6",
    "outputId": "e891c15a-227b-49bc-8646-bcbfeee7ac62"
   },
   "outputs": [],
   "source": [
    "r2_score(test_labels, final_model.predict(test_data))"
   ]
  },
  {
   "cell_type": "markdown",
   "metadata": {
    "id": "D9ePtAvcg3Ra"
   },
   "source": [
    "#### Saving training data, test data and best model\n",
    "---"
   ]
  },
  {
   "cell_type": "code",
   "execution_count": null,
   "metadata": {
    "id": "clwcQi4Rg3Ra",
    "pycharm": {
     "name": "#%%\n"
    }
   },
   "outputs": [],
   "source": [
    "results_path = 'results_tabular'"
   ]
  },
  {
   "cell_type": "code",
   "execution_count": null,
   "metadata": {
    "id": "5OGk1g6-g3Ra",
    "pycharm": {
     "name": "#%%\n"
    }
   },
   "outputs": [],
   "source": [
    "if os.path.exists(results_path):\n",
    "    os.system('rm -r {0}'.format(results_path))\n",
    "    os.mkdir(results_path)\n",
    "else:\n",
    "    os.mkdir(results_path)"
   ]
  },
  {
   "cell_type": "code",
   "execution_count": null,
   "metadata": {
    "id": "m4S_YhYrg3Ra",
    "pycharm": {
     "name": "#%%\n"
    }
   },
   "outputs": [],
   "source": [
    "np_to_csv = lambda x, y: np.savetxt(f\"{y}.csv\", x, delimiter=\",\")"
   ]
  },
  {
   "cell_type": "code",
   "execution_count": null,
   "metadata": {
    "id": "XO2zUOwwg3Ra",
    "pycharm": {
     "name": "#%%\n"
    }
   },
   "outputs": [],
   "source": [
    "train_data.to_csv(os.path.join(results_path, 'train_data.csv'))\n",
    "test_data.to_csv(os.path.join(results_path, 'test_data.csv'))\n",
    "\n",
    "np_to_csv(train_labels, os.path.join(results_path, 'train_labels'))\n",
    "np_to_csv(test_labels, os.path.join(results_path, 'test_labels'))"
   ]
  },
  {
   "cell_type": "code",
   "execution_count": null,
   "metadata": {
    "colab": {
     "base_uri": "https://localhost:8080/"
    },
    "id": "RFeNiMSTg3Ra",
    "outputId": "365a0338-9356-4745-93f4-422884ff671b",
    "pycharm": {
     "name": "#%%\n"
    }
   },
   "outputs": [],
   "source": [
    "final_model.save(os.path.join(results_path, 'best_model'))"
   ]
  },
  {
   "cell_type": "code",
   "execution_count": null,
   "metadata": {
    "colab": {
     "base_uri": "https://localhost:8080/"
    },
    "id": "Q__6dSre0AQX",
    "outputId": "b6d90aa5-91ef-4f18-a865-ad34ae9579eb"
   },
   "outputs": [],
   "source": [
    "!zip -r results_tabular/best_model.zip results_tabular/best_model"
   ]
  },
  {
   "cell_type": "code",
   "execution_count": null,
   "metadata": {
    "colab": {
     "base_uri": "https://localhost:8080/",
     "height": 1000
    },
    "id": "KxrwtCcD13Jc",
    "outputId": "e1314efe-41fa-428b-fb48-7a096b223129"
   },
   "outputs": [],
   "source": [
    "import matplotlib.pyplot as plt\n",
    "plt.style.use('seaborn-darkgrid')\n",
    "for j in range(train_labels.shape[1]):\n",
    "  plot = validation_plot(train_labels.iloc[:, j].to_numpy(), final_model.predict(train_data)[:, j], show=True, title='Training', marker_color='red')"
   ]
  },
  {
   "cell_type": "code",
   "execution_count": null,
   "metadata": {
    "colab": {
     "base_uri": "https://localhost:8080/",
     "height": 1000
    },
    "id": "N-dDXwBZ1-iD",
    "outputId": "1cfc3bb4-c114-44a2-e802-15b6c50169a8"
   },
   "outputs": [],
   "source": [
    "for k in range(test_labels.shape[1]):\n",
    "  plot = validation_plot(test_labels.iloc[:, k].to_numpy(), final_model.predict(test_data)[:, k], show=True, title='Test', marker_color='red')"
   ]
  },
  {
   "cell_type": "code",
   "execution_count": null,
   "metadata": {
    "id": "qLtqaprZ218M"
   },
   "outputs": [],
   "source": []
  }
 ],
 "metadata": {
  "colab": {
   "collapsed_sections": [],
   "name": "standard_regression_keras.ipynb",
   "provenance": []
  },
  "kernelspec": {
   "display_name": "Python 3 (ipykernel)",
   "language": "python",
   "name": "python3"
  },
  "language_info": {
   "codemirror_mode": {
    "name": "ipython",
    "version": 3
   },
   "file_extension": ".py",
   "mimetype": "text/x-python",
   "name": "python",
   "nbconvert_exporter": "python",
   "pygments_lexer": "ipython3",
   "version": "3.8.12"
  }
 },
 "nbformat": 4,
 "nbformat_minor": 4
}